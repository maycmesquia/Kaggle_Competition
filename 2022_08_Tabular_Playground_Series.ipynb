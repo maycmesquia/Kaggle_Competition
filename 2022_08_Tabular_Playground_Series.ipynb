{
  "cells": [
    {
      "cell_type": "markdown",
      "metadata": {
        "id": "view-in-github",
        "colab_type": "text"
      },
      "source": [
        "<a href=\"https://colab.research.google.com/github/maycmesquia/Kaggle_Competition/blob/main/2022_08_Tabular_Playground_Series.ipynb\" target=\"_parent\"><img src=\"https://colab.research.google.com/assets/colab-badge.svg\" alt=\"Open In Colab\"/></a>"
      ]
    },
    {
      "cell_type": "markdown",
      "metadata": {
        "id": "wByYZwuFbbtT"
      },
      "source": [
        "# Dados e Contatos\n",
        "\n",
        "Ola, sou *Maycon Mendes*, Cientista Contábil e Cientista de Dados (Data Scientist)!\n",
        "\n",
        "Acredito fortemente que: conhecer a causa é mais importante para solucionar o problema!\n",
        "\n",
        "Cada vez mais devemos buscar informação e conhecimento, pois e atraves deles que podemos discernir o boato do fato, a verdade da mentira!\n",
        "\n",
        "**Contatos:**\n",
        "\n",
        "- [Kaggle](https://www.kaggle.com/maycondsmendes)\n",
        "\n",
        "- [Linkedin](https://www.linkedin.com/in/maycon-douglas-data-science/)\n",
        "\n",
        "- [Github](https://github.com/maycmesquia)\n",
        "\n",
        "- E-mail: [maycmesquita@gmail.com](https://maycmesquita@gmail.com)"
      ]
    },
    {
      "cell_type": "markdown",
      "metadata": {
        "id": "uOEsLhFfN3mP"
      },
      "source": [
        "# Tabular Playgroud Series\n",
        "\n",
        "Competição do [Kaggle](https://www.kaggle.com/competitions/tabular-playground-series-aug-2022/overview/description)\n",
        "\n",
        "A edição de agosto de 2022 da Tabular Playground Series é uma oportunidade para ajudar a empresa fictícia Keep It Dry a melhorar seu principal produto Super Soaker .\n",
        "\n",
        "O produto é usado em fábricas para absorver derramamentos e vazamentos.\n",
        "\n",
        "A empresa acaba de concluir um grande estudo de teste para diferentes protótipos de produtos.\n",
        "\n",
        "Você pode usar esses dados para construir um modelo que prevê falhas do produto?\n",
        "\n",
        "Avaliação \n",
        "\n",
        "As submissões são avaliadas na área sob a curva ROC entre a probabilidade prevista e o alvo observado.\n",
        "\n",
        "Arquivo de envio\n",
        "Para cada um idno conjunto de teste, você deve prever uma probabilidade a failure. O arquivo deve conter um cabeçalho e ter o seguinte formato:\n",
        "\n",
        "- id,failure\n",
        "- 26570,0.2\n",
        "- 26571,0.1\n",
        "- 26572,0.9\n"
      ]
    },
    {
      "cell_type": "markdown",
      "metadata": {
        "id": "I-iQEsMCbXNw"
      },
      "source": [
        "## Preparando ambiente"
      ]
    },
    {
      "cell_type": "code",
      "execution_count": null,
      "metadata": {
        "id": "98pAEVYOLvxX",
        "tags": []
      },
      "outputs": [],
      "source": [
        "# Blibiotecas Basicas!\n",
        "\n",
        "import pandas as pd\n",
        "import numpy as np\n",
        "import matplotlib.pyplot as plt\n",
        "import seaborn as sns\n",
        "\n",
        "sns.set()\n",
        "sns.set_style('darkgrid')\n",
        "\n",
        "import warnings\n",
        "warnings.filterwarnings('ignore')\n",
        "\n",
        "# Bibliotecas de Aprendizagem!\n",
        "\n",
        "from sklearn.model_selection import train_test_split\n",
        "from sklearn.metrics import roc_curve, auc\n",
        "from sklearn.metrics import RocCurveDisplay\n",
        "from sklearn.preprocessing import OneHotEncoder, OrdinalEncoder\n",
        "from sklearn.compose import ColumnTransformer\n",
        "from sklearn.preprocessing import StandardScaler\n",
        "from sklearn.model_selection import GridSearchCV, StratifiedKFold\n",
        "from sklearn.pipeline import Pipeline\n",
        "from sklearn.impute import SimpleImputer\n",
        "\n",
        "from sklearn.ensemble import HistGradientBoostingClassifier\n",
        "from sklearn.linear_model import LogisticRegression\n",
        "from sklearn.tree import DecisionTreeClassifier"
      ]
    },
    {
      "cell_type": "code",
      "execution_count": null,
      "metadata": {
        "id": "FOy5R5Sce_0n"
      },
      "outputs": [],
      "source": [
        "# Criando Funções\n",
        "\n",
        "def avaliacao(estimador, X_train, X_val, y_train, y_val):\n",
        "    \"\"\"\n",
        "    Para avaliar o estimador, ele solicita as seguintes dados:\n",
        "    estimador, X_train, X_val, y_train, y_val\n",
        "    \"\"\"\n",
        "\n",
        "    y_pred_train = estimador.predict(X_train)\n",
        "\n",
        "    fpr, tpr, thresholds = roc_curve(y_train, y_pred_train, pos_label=1)\n",
        "    roc_auc = auc(fpr, tpr)\n",
        "    display = RocCurveDisplay(fpr=fpr, tpr=tpr, roc_auc=roc_auc,\n",
        "                              estimator_name='Train')\n",
        "    \n",
        "    display.plot()\n",
        "    plt.show()\n",
        "\n",
        "    y_pred_val = estimador.predict(X_val)\n",
        "\n",
        "    fpr, tpr, thresholds = roc_curve(y_val, y_pred_val, pos_label=1)\n",
        "    roc_auc = auc(fpr, tpr)\n",
        "    display = RocCurveDisplay(fpr=fpr, tpr=tpr, roc_auc=roc_auc,\n",
        "                              estimator_name='Val')\n",
        "    \n",
        "    display.plot()\n",
        "    plt.show()\n",
        "\n",
        "def submissao(estimador, X_test, id_test, cabecalho, nome):\n",
        "    \"\"\"\n",
        "    Para criar o arquivo que ira ser submetido na competição Kaggle\n",
        "    Solicita os seguintes parametros: estimador, X_test, id_test, cabecalho, nome\n",
        "    \"\"\"\n",
        "    y_proba = estimador.predict_proba(X_test)[:,1]\n",
        "    comp = \".csv\"\n",
        "    local = 'Submissoes/'\n",
        "    pd.Series(y_proba, index=id_test, name=cabecalho).to_csv(end + local + nome + comp, header=True)\n",
        "    print(f'Arquivo salvo com sucesso! em: {end + local}')"
      ]
    },
    {
      "cell_type": "markdown",
      "metadata": {
        "id": "rRQbdG5EgROc"
      },
      "source": [
        "[Espelhar em!](https://colab.research.google.com/drive/1lS1mwbgrA4kMmeE7mjks_IzjySly4fHu#scrollTo=5x3UQ5cd-90l)"
      ]
    },
    {
      "cell_type": "code",
      "execution_count": null,
      "metadata": {
        "id": "i4Ku851NzOM7"
      },
      "outputs": [],
      "source": [
        "from sklearn.ensemble import HistGradientBoostingClassifier\n",
        "from sklearn.linear_model import LogisticRegression\n",
        "from sklearn.tree import DecisionTreeClassifier\n",
        "from sklearn.neighbors import KNeighborsClassifier\n",
        "from sklearn.ensemble import AdaBoostClassifier\n",
        "from sklearn.ensemble import GradientBoostingClassifier\n",
        "from xgboost import XGBClassifier\n",
        "from sklearn.ensemble import RandomForestClassifier\n",
        "from sklearn.naive_bayes import GaussianNB\n",
        "from sklearn.naive_bayes import BernoulliNB\n",
        "from sklearn.naive_bayes import MultinomialNB\n",
        "from sklearn.svm import SVC"
      ]
    },
    {
      "cell_type": "code",
      "execution_count": null,
      "metadata": {
        "id": "Lo1bxj4Re-3M"
      },
      "outputs": [],
      "source": [
        "# Geralzão ! Clean\n",
        "\n",
        "from sklearn.model_selection import train_test_split\n",
        "from sklearn.preprocessing import StandardScaler\n",
        "from sklearn.preprocessing import MinMaxScaler\n",
        "\n",
        "from sklearn.impute import SimpleImputer\n",
        "from sklearn.preprocessing import OneHotEncoder, OrdinalEncoder\n",
        "from sklearn.preprocessing import StandardScaler\n",
        "\n",
        "from sklearn.compose import ColumnTransformer\n",
        "\n",
        "from sklearn.model_selection import GridSearchCV, StratifiedKFold\n",
        "\n",
        "from sklearn.pipeline import Pipeline\n",
        "\n",
        "from sklearn.ensemble import HistGradientBoostingClassifier\n",
        "from sklearn.linear_model import LogisticRegression\n",
        "from sklearn.tree import DecisionTreeClassifier\n",
        "from sklearn.neighbors import KNeighborsClassifier\n",
        "from sklearn.ensemble import AdaBoostClassifier\n",
        "from sklearn.ensemble import GradientBoostingClassifier\n",
        "from xgboost import XGBClassifier\n",
        "from sklearn.ensemble import RandomForestClassifier\n",
        "from sklearn.naive_bayes import GaussianNB\n",
        "from sklearn.naive_bayes import BernoulliNB\n",
        "from sklearn.naive_bayes import MultinomialNB\n",
        "from sklearn.svm import SVC\n",
        "\n",
        "from sklearn.metrics import accuracy_score\n",
        "from sklearn.metrics import plot_confusion_matrix\n",
        "\n",
        "import pickle"
      ]
    },
    {
      "cell_type": "markdown",
      "metadata": {
        "id": "SWcaDcrAaXCI",
        "tags": []
      },
      "source": [
        "## Dados Colab Google"
      ]
    },
    {
      "cell_type": "code",
      "execution_count": null,
      "metadata": {
        "colab": {
          "base_uri": "https://localhost:8080/"
        },
        "id": "uTVmCF_aNjzV",
        "outputId": "6fdac65f-8f41-4aa0-f764-4cf5ca5f3e0b"
      },
      "outputs": [
        {
          "name": "stdout",
          "output_type": "stream",
          "text": [
            "Mounted at /content/drive\n"
          ]
        }
      ],
      "source": [
        "from google.colab import drive\n",
        "drive.mount('/content/drive')"
      ]
    },
    {
      "cell_type": "code",
      "execution_count": null,
      "metadata": {
        "id": "jNf3qRBVPjoX",
        "tags": []
      },
      "outputs": [],
      "source": [
        "end = '/content/drive/Othercomputers/Meu laptop/Dados/2022.08 - Tabular Playground Series/'\n",
        "train = pd.read_csv(end + 'Dados/train.csv')\n",
        "test = pd.read_csv(end + 'Dados/test.csv')"
      ]
    },
    {
      "cell_type": "markdown",
      "metadata": {
        "id": "mJt1Uq_maXCL"
      },
      "source": [
        "## Dados Jupyter Lab"
      ]
    },
    {
      "cell_type": "code",
      "execution_count": null,
      "metadata": {
        "id": "1Ld2cokQaXCJ"
      },
      "outputs": [],
      "source": [
        "end = ''\n",
        "train = pd.read_csv(\"Dados/train.csv\")\n",
        "test = pd.read_csv(\"Dados/test.csv\")"
      ]
    },
    {
      "cell_type": "markdown",
      "metadata": {
        "id": "IFSk363pfYsV"
      },
      "source": [
        "## Objetivos:\n",
        "\n",
        "Realizar uma submissão com um ROE entre: x e y\n",
        "\n"
      ]
    },
    {
      "cell_type": "markdown",
      "metadata": {
        "id": "_aXPFSVaapRw"
      },
      "source": [
        "## Analisando os dados"
      ]
    },
    {
      "cell_type": "code",
      "execution_count": null,
      "metadata": {
        "colab": {
          "base_uri": "https://localhost:8080/",
          "height": 488
        },
        "id": "2uvPWM9DW0pt",
        "outputId": "eabf247c-6ee4-4971-a7c4-15ad9d5c8815"
      },
      "outputs": [
        {
          "data": {
            "text/html": [
              "<div>\n",
              "<style scoped>\n",
              "    .dataframe tbody tr th:only-of-type {\n",
              "        vertical-align: middle;\n",
              "    }\n",
              "\n",
              "    .dataframe tbody tr th {\n",
              "        vertical-align: top;\n",
              "    }\n",
              "\n",
              "    .dataframe thead th {\n",
              "        text-align: right;\n",
              "    }\n",
              "</style>\n",
              "<table border=\"1\" class=\"dataframe\">\n",
              "  <thead>\n",
              "    <tr style=\"text-align: right;\">\n",
              "      <th></th>\n",
              "      <th>id</th>\n",
              "      <th>product_code</th>\n",
              "      <th>loading</th>\n",
              "      <th>attribute_0</th>\n",
              "      <th>attribute_1</th>\n",
              "      <th>attribute_2</th>\n",
              "      <th>attribute_3</th>\n",
              "      <th>measurement_0</th>\n",
              "      <th>measurement_1</th>\n",
              "      <th>measurement_2</th>\n",
              "      <th>...</th>\n",
              "      <th>measurement_9</th>\n",
              "      <th>measurement_10</th>\n",
              "      <th>measurement_11</th>\n",
              "      <th>measurement_12</th>\n",
              "      <th>measurement_13</th>\n",
              "      <th>measurement_14</th>\n",
              "      <th>measurement_15</th>\n",
              "      <th>measurement_16</th>\n",
              "      <th>measurement_17</th>\n",
              "      <th>failure</th>\n",
              "    </tr>\n",
              "  </thead>\n",
              "  <tbody>\n",
              "    <tr>\n",
              "      <th>0</th>\n",
              "      <td>0</td>\n",
              "      <td>A</td>\n",
              "      <td>80.10</td>\n",
              "      <td>material_7</td>\n",
              "      <td>material_8</td>\n",
              "      <td>9</td>\n",
              "      <td>5</td>\n",
              "      <td>7</td>\n",
              "      <td>8</td>\n",
              "      <td>4</td>\n",
              "      <td>...</td>\n",
              "      <td>10.672</td>\n",
              "      <td>15.859</td>\n",
              "      <td>17.594</td>\n",
              "      <td>15.193</td>\n",
              "      <td>15.029</td>\n",
              "      <td>NaN</td>\n",
              "      <td>13.034</td>\n",
              "      <td>14.684</td>\n",
              "      <td>764.100</td>\n",
              "      <td>0</td>\n",
              "    </tr>\n",
              "    <tr>\n",
              "      <th>1</th>\n",
              "      <td>1</td>\n",
              "      <td>A</td>\n",
              "      <td>84.89</td>\n",
              "      <td>material_7</td>\n",
              "      <td>material_8</td>\n",
              "      <td>9</td>\n",
              "      <td>5</td>\n",
              "      <td>14</td>\n",
              "      <td>3</td>\n",
              "      <td>3</td>\n",
              "      <td>...</td>\n",
              "      <td>12.448</td>\n",
              "      <td>17.947</td>\n",
              "      <td>17.915</td>\n",
              "      <td>11.755</td>\n",
              "      <td>14.732</td>\n",
              "      <td>15.425</td>\n",
              "      <td>14.395</td>\n",
              "      <td>15.631</td>\n",
              "      <td>682.057</td>\n",
              "      <td>0</td>\n",
              "    </tr>\n",
              "    <tr>\n",
              "      <th>2</th>\n",
              "      <td>2</td>\n",
              "      <td>A</td>\n",
              "      <td>82.43</td>\n",
              "      <td>material_7</td>\n",
              "      <td>material_8</td>\n",
              "      <td>9</td>\n",
              "      <td>5</td>\n",
              "      <td>12</td>\n",
              "      <td>1</td>\n",
              "      <td>5</td>\n",
              "      <td>...</td>\n",
              "      <td>12.715</td>\n",
              "      <td>15.607</td>\n",
              "      <td>NaN</td>\n",
              "      <td>13.798</td>\n",
              "      <td>16.711</td>\n",
              "      <td>18.631</td>\n",
              "      <td>14.094</td>\n",
              "      <td>17.946</td>\n",
              "      <td>663.376</td>\n",
              "      <td>0</td>\n",
              "    </tr>\n",
              "    <tr>\n",
              "      <th>3</th>\n",
              "      <td>3</td>\n",
              "      <td>A</td>\n",
              "      <td>101.07</td>\n",
              "      <td>material_7</td>\n",
              "      <td>material_8</td>\n",
              "      <td>9</td>\n",
              "      <td>5</td>\n",
              "      <td>13</td>\n",
              "      <td>2</td>\n",
              "      <td>6</td>\n",
              "      <td>...</td>\n",
              "      <td>12.471</td>\n",
              "      <td>16.346</td>\n",
              "      <td>18.377</td>\n",
              "      <td>10.020</td>\n",
              "      <td>15.250</td>\n",
              "      <td>15.562</td>\n",
              "      <td>16.154</td>\n",
              "      <td>17.172</td>\n",
              "      <td>826.282</td>\n",
              "      <td>0</td>\n",
              "    </tr>\n",
              "    <tr>\n",
              "      <th>4</th>\n",
              "      <td>4</td>\n",
              "      <td>A</td>\n",
              "      <td>188.06</td>\n",
              "      <td>material_7</td>\n",
              "      <td>material_8</td>\n",
              "      <td>9</td>\n",
              "      <td>5</td>\n",
              "      <td>9</td>\n",
              "      <td>2</td>\n",
              "      <td>8</td>\n",
              "      <td>...</td>\n",
              "      <td>10.337</td>\n",
              "      <td>17.082</td>\n",
              "      <td>19.932</td>\n",
              "      <td>12.428</td>\n",
              "      <td>16.182</td>\n",
              "      <td>12.760</td>\n",
              "      <td>13.153</td>\n",
              "      <td>16.412</td>\n",
              "      <td>579.885</td>\n",
              "      <td>0</td>\n",
              "    </tr>\n",
              "    <tr>\n",
              "      <th>...</th>\n",
              "      <td>...</td>\n",
              "      <td>...</td>\n",
              "      <td>...</td>\n",
              "      <td>...</td>\n",
              "      <td>...</td>\n",
              "      <td>...</td>\n",
              "      <td>...</td>\n",
              "      <td>...</td>\n",
              "      <td>...</td>\n",
              "      <td>...</td>\n",
              "      <td>...</td>\n",
              "      <td>...</td>\n",
              "      <td>...</td>\n",
              "      <td>...</td>\n",
              "      <td>...</td>\n",
              "      <td>...</td>\n",
              "      <td>...</td>\n",
              "      <td>...</td>\n",
              "      <td>...</td>\n",
              "      <td>...</td>\n",
              "      <td>...</td>\n",
              "    </tr>\n",
              "    <tr>\n",
              "      <th>26565</th>\n",
              "      <td>26565</td>\n",
              "      <td>E</td>\n",
              "      <td>158.95</td>\n",
              "      <td>material_7</td>\n",
              "      <td>material_6</td>\n",
              "      <td>6</td>\n",
              "      <td>9</td>\n",
              "      <td>6</td>\n",
              "      <td>16</td>\n",
              "      <td>4</td>\n",
              "      <td>...</td>\n",
              "      <td>NaN</td>\n",
              "      <td>12.177</td>\n",
              "      <td>17.942</td>\n",
              "      <td>10.112</td>\n",
              "      <td>15.795</td>\n",
              "      <td>18.572</td>\n",
              "      <td>16.144</td>\n",
              "      <td>NaN</td>\n",
              "      <td>729.131</td>\n",
              "      <td>0</td>\n",
              "    </tr>\n",
              "    <tr>\n",
              "      <th>26566</th>\n",
              "      <td>26566</td>\n",
              "      <td>E</td>\n",
              "      <td>146.02</td>\n",
              "      <td>material_7</td>\n",
              "      <td>material_6</td>\n",
              "      <td>6</td>\n",
              "      <td>9</td>\n",
              "      <td>10</td>\n",
              "      <td>12</td>\n",
              "      <td>8</td>\n",
              "      <td>...</td>\n",
              "      <td>11.242</td>\n",
              "      <td>14.179</td>\n",
              "      <td>20.564</td>\n",
              "      <td>10.234</td>\n",
              "      <td>14.450</td>\n",
              "      <td>14.322</td>\n",
              "      <td>13.146</td>\n",
              "      <td>16.471</td>\n",
              "      <td>853.924</td>\n",
              "      <td>0</td>\n",
              "    </tr>\n",
              "    <tr>\n",
              "      <th>26567</th>\n",
              "      <td>26567</td>\n",
              "      <td>E</td>\n",
              "      <td>115.62</td>\n",
              "      <td>material_7</td>\n",
              "      <td>material_6</td>\n",
              "      <td>6</td>\n",
              "      <td>9</td>\n",
              "      <td>1</td>\n",
              "      <td>10</td>\n",
              "      <td>1</td>\n",
              "      <td>...</td>\n",
              "      <td>11.407</td>\n",
              "      <td>16.437</td>\n",
              "      <td>17.476</td>\n",
              "      <td>8.668</td>\n",
              "      <td>15.069</td>\n",
              "      <td>16.599</td>\n",
              "      <td>15.590</td>\n",
              "      <td>14.065</td>\n",
              "      <td>750.364</td>\n",
              "      <td>0</td>\n",
              "    </tr>\n",
              "    <tr>\n",
              "      <th>26568</th>\n",
              "      <td>26568</td>\n",
              "      <td>E</td>\n",
              "      <td>106.38</td>\n",
              "      <td>material_7</td>\n",
              "      <td>material_6</td>\n",
              "      <td>6</td>\n",
              "      <td>9</td>\n",
              "      <td>2</td>\n",
              "      <td>9</td>\n",
              "      <td>4</td>\n",
              "      <td>...</td>\n",
              "      <td>11.392</td>\n",
              "      <td>17.064</td>\n",
              "      <td>17.814</td>\n",
              "      <td>14.928</td>\n",
              "      <td>16.273</td>\n",
              "      <td>15.485</td>\n",
              "      <td>13.624</td>\n",
              "      <td>12.865</td>\n",
              "      <td>730.156</td>\n",
              "      <td>0</td>\n",
              "    </tr>\n",
              "    <tr>\n",
              "      <th>26569</th>\n",
              "      <td>26569</td>\n",
              "      <td>E</td>\n",
              "      <td>131.20</td>\n",
              "      <td>material_7</td>\n",
              "      <td>material_6</td>\n",
              "      <td>6</td>\n",
              "      <td>9</td>\n",
              "      <td>6</td>\n",
              "      <td>19</td>\n",
              "      <td>1</td>\n",
              "      <td>...</td>\n",
              "      <td>10.611</td>\n",
              "      <td>15.603</td>\n",
              "      <td>19.703</td>\n",
              "      <td>11.006</td>\n",
              "      <td>15.875</td>\n",
              "      <td>13.366</td>\n",
              "      <td>16.527</td>\n",
              "      <td>17.890</td>\n",
              "      <td>602.354</td>\n",
              "      <td>0</td>\n",
              "    </tr>\n",
              "  </tbody>\n",
              "</table>\n",
              "<p>26570 rows × 26 columns</p>\n",
              "</div>"
            ],
            "text/plain": [
              "          id product_code  loading attribute_0 attribute_1  attribute_2  \\\n",
              "0          0            A    80.10  material_7  material_8            9   \n",
              "1          1            A    84.89  material_7  material_8            9   \n",
              "2          2            A    82.43  material_7  material_8            9   \n",
              "3          3            A   101.07  material_7  material_8            9   \n",
              "4          4            A   188.06  material_7  material_8            9   \n",
              "...      ...          ...      ...         ...         ...          ...   \n",
              "26565  26565            E   158.95  material_7  material_6            6   \n",
              "26566  26566            E   146.02  material_7  material_6            6   \n",
              "26567  26567            E   115.62  material_7  material_6            6   \n",
              "26568  26568            E   106.38  material_7  material_6            6   \n",
              "26569  26569            E   131.20  material_7  material_6            6   \n",
              "\n",
              "       attribute_3  measurement_0  measurement_1  measurement_2  ...  \\\n",
              "0                5              7              8              4  ...   \n",
              "1                5             14              3              3  ...   \n",
              "2                5             12              1              5  ...   \n",
              "3                5             13              2              6  ...   \n",
              "4                5              9              2              8  ...   \n",
              "...            ...            ...            ...            ...  ...   \n",
              "26565            9              6             16              4  ...   \n",
              "26566            9             10             12              8  ...   \n",
              "26567            9              1             10              1  ...   \n",
              "26568            9              2              9              4  ...   \n",
              "26569            9              6             19              1  ...   \n",
              "\n",
              "       measurement_9  measurement_10  measurement_11  measurement_12  \\\n",
              "0             10.672          15.859          17.594          15.193   \n",
              "1             12.448          17.947          17.915          11.755   \n",
              "2             12.715          15.607             NaN          13.798   \n",
              "3             12.471          16.346          18.377          10.020   \n",
              "4             10.337          17.082          19.932          12.428   \n",
              "...              ...             ...             ...             ...   \n",
              "26565            NaN          12.177          17.942          10.112   \n",
              "26566         11.242          14.179          20.564          10.234   \n",
              "26567         11.407          16.437          17.476           8.668   \n",
              "26568         11.392          17.064          17.814          14.928   \n",
              "26569         10.611          15.603          19.703          11.006   \n",
              "\n",
              "       measurement_13  measurement_14  measurement_15  measurement_16  \\\n",
              "0              15.029             NaN          13.034          14.684   \n",
              "1              14.732          15.425          14.395          15.631   \n",
              "2              16.711          18.631          14.094          17.946   \n",
              "3              15.250          15.562          16.154          17.172   \n",
              "4              16.182          12.760          13.153          16.412   \n",
              "...               ...             ...             ...             ...   \n",
              "26565          15.795          18.572          16.144             NaN   \n",
              "26566          14.450          14.322          13.146          16.471   \n",
              "26567          15.069          16.599          15.590          14.065   \n",
              "26568          16.273          15.485          13.624          12.865   \n",
              "26569          15.875          13.366          16.527          17.890   \n",
              "\n",
              "       measurement_17  failure  \n",
              "0             764.100        0  \n",
              "1             682.057        0  \n",
              "2             663.376        0  \n",
              "3             826.282        0  \n",
              "4             579.885        0  \n",
              "...               ...      ...  \n",
              "26565         729.131        0  \n",
              "26566         853.924        0  \n",
              "26567         750.364        0  \n",
              "26568         730.156        0  \n",
              "26569         602.354        0  \n",
              "\n",
              "[26570 rows x 26 columns]"
            ]
          },
          "execution_count": 4,
          "metadata": {},
          "output_type": "execute_result"
        }
      ],
      "source": [
        "train"
      ]
    },
    {
      "cell_type": "code",
      "execution_count": null,
      "metadata": {
        "colab": {
          "base_uri": "https://localhost:8080/",
          "height": 488
        },
        "id": "GBqE8CDqW4fK",
        "outputId": "6e3d9403-d728-45f0-938c-e9ca3e1a8212"
      },
      "outputs": [
        {
          "data": {
            "text/html": [
              "<div>\n",
              "<style scoped>\n",
              "    .dataframe tbody tr th:only-of-type {\n",
              "        vertical-align: middle;\n",
              "    }\n",
              "\n",
              "    .dataframe tbody tr th {\n",
              "        vertical-align: top;\n",
              "    }\n",
              "\n",
              "    .dataframe thead th {\n",
              "        text-align: right;\n",
              "    }\n",
              "</style>\n",
              "<table border=\"1\" class=\"dataframe\">\n",
              "  <thead>\n",
              "    <tr style=\"text-align: right;\">\n",
              "      <th></th>\n",
              "      <th>id</th>\n",
              "      <th>product_code</th>\n",
              "      <th>loading</th>\n",
              "      <th>attribute_0</th>\n",
              "      <th>attribute_1</th>\n",
              "      <th>attribute_2</th>\n",
              "      <th>attribute_3</th>\n",
              "      <th>measurement_0</th>\n",
              "      <th>measurement_1</th>\n",
              "      <th>measurement_2</th>\n",
              "      <th>...</th>\n",
              "      <th>measurement_8</th>\n",
              "      <th>measurement_9</th>\n",
              "      <th>measurement_10</th>\n",
              "      <th>measurement_11</th>\n",
              "      <th>measurement_12</th>\n",
              "      <th>measurement_13</th>\n",
              "      <th>measurement_14</th>\n",
              "      <th>measurement_15</th>\n",
              "      <th>measurement_16</th>\n",
              "      <th>measurement_17</th>\n",
              "    </tr>\n",
              "  </thead>\n",
              "  <tbody>\n",
              "    <tr>\n",
              "      <th>0</th>\n",
              "      <td>26570</td>\n",
              "      <td>F</td>\n",
              "      <td>119.57</td>\n",
              "      <td>material_5</td>\n",
              "      <td>material_6</td>\n",
              "      <td>6</td>\n",
              "      <td>4</td>\n",
              "      <td>6</td>\n",
              "      <td>9</td>\n",
              "      <td>6</td>\n",
              "      <td>...</td>\n",
              "      <td>18.654</td>\n",
              "      <td>10.802</td>\n",
              "      <td>15.909</td>\n",
              "      <td>18.070</td>\n",
              "      <td>13.772</td>\n",
              "      <td>13.659</td>\n",
              "      <td>16.825</td>\n",
              "      <td>13.742</td>\n",
              "      <td>17.710</td>\n",
              "      <td>634.612</td>\n",
              "    </tr>\n",
              "    <tr>\n",
              "      <th>1</th>\n",
              "      <td>26571</td>\n",
              "      <td>F</td>\n",
              "      <td>113.51</td>\n",
              "      <td>material_5</td>\n",
              "      <td>material_6</td>\n",
              "      <td>6</td>\n",
              "      <td>4</td>\n",
              "      <td>11</td>\n",
              "      <td>8</td>\n",
              "      <td>0</td>\n",
              "      <td>...</td>\n",
              "      <td>19.368</td>\n",
              "      <td>12.032</td>\n",
              "      <td>13.998</td>\n",
              "      <td>NaN</td>\n",
              "      <td>12.473</td>\n",
              "      <td>17.468</td>\n",
              "      <td>16.708</td>\n",
              "      <td>14.776</td>\n",
              "      <td>14.102</td>\n",
              "      <td>537.037</td>\n",
              "    </tr>\n",
              "    <tr>\n",
              "      <th>2</th>\n",
              "      <td>26572</td>\n",
              "      <td>F</td>\n",
              "      <td>112.16</td>\n",
              "      <td>material_5</td>\n",
              "      <td>material_6</td>\n",
              "      <td>6</td>\n",
              "      <td>4</td>\n",
              "      <td>8</td>\n",
              "      <td>12</td>\n",
              "      <td>4</td>\n",
              "      <td>...</td>\n",
              "      <td>17.774</td>\n",
              "      <td>11.743</td>\n",
              "      <td>17.046</td>\n",
              "      <td>18.086</td>\n",
              "      <td>10.907</td>\n",
              "      <td>13.363</td>\n",
              "      <td>15.737</td>\n",
              "      <td>17.065</td>\n",
              "      <td>16.021</td>\n",
              "      <td>658.995</td>\n",
              "    </tr>\n",
              "    <tr>\n",
              "      <th>3</th>\n",
              "      <td>26573</td>\n",
              "      <td>F</td>\n",
              "      <td>112.72</td>\n",
              "      <td>material_5</td>\n",
              "      <td>material_6</td>\n",
              "      <td>6</td>\n",
              "      <td>4</td>\n",
              "      <td>8</td>\n",
              "      <td>11</td>\n",
              "      <td>10</td>\n",
              "      <td>...</td>\n",
              "      <td>18.948</td>\n",
              "      <td>11.790</td>\n",
              "      <td>18.165</td>\n",
              "      <td>16.163</td>\n",
              "      <td>10.933</td>\n",
              "      <td>15.501</td>\n",
              "      <td>15.667</td>\n",
              "      <td>12.620</td>\n",
              "      <td>16.111</td>\n",
              "      <td>594.301</td>\n",
              "    </tr>\n",
              "    <tr>\n",
              "      <th>4</th>\n",
              "      <td>26574</td>\n",
              "      <td>F</td>\n",
              "      <td>208.00</td>\n",
              "      <td>material_5</td>\n",
              "      <td>material_6</td>\n",
              "      <td>6</td>\n",
              "      <td>4</td>\n",
              "      <td>14</td>\n",
              "      <td>16</td>\n",
              "      <td>8</td>\n",
              "      <td>...</td>\n",
              "      <td>19.141</td>\n",
              "      <td>12.370</td>\n",
              "      <td>14.578</td>\n",
              "      <td>17.849</td>\n",
              "      <td>11.941</td>\n",
              "      <td>16.070</td>\n",
              "      <td>16.183</td>\n",
              "      <td>13.324</td>\n",
              "      <td>17.150</td>\n",
              "      <td>801.044</td>\n",
              "    </tr>\n",
              "    <tr>\n",
              "      <th>...</th>\n",
              "      <td>...</td>\n",
              "      <td>...</td>\n",
              "      <td>...</td>\n",
              "      <td>...</td>\n",
              "      <td>...</td>\n",
              "      <td>...</td>\n",
              "      <td>...</td>\n",
              "      <td>...</td>\n",
              "      <td>...</td>\n",
              "      <td>...</td>\n",
              "      <td>...</td>\n",
              "      <td>...</td>\n",
              "      <td>...</td>\n",
              "      <td>...</td>\n",
              "      <td>...</td>\n",
              "      <td>...</td>\n",
              "      <td>...</td>\n",
              "      <td>...</td>\n",
              "      <td>...</td>\n",
              "      <td>...</td>\n",
              "      <td>...</td>\n",
              "    </tr>\n",
              "    <tr>\n",
              "      <th>20770</th>\n",
              "      <td>47340</td>\n",
              "      <td>I</td>\n",
              "      <td>144.74</td>\n",
              "      <td>material_7</td>\n",
              "      <td>material_5</td>\n",
              "      <td>9</td>\n",
              "      <td>5</td>\n",
              "      <td>0</td>\n",
              "      <td>4</td>\n",
              "      <td>9</td>\n",
              "      <td>...</td>\n",
              "      <td>18.573</td>\n",
              "      <td>11.691</td>\n",
              "      <td>NaN</td>\n",
              "      <td>19.771</td>\n",
              "      <td>11.562</td>\n",
              "      <td>17.246</td>\n",
              "      <td>15.131</td>\n",
              "      <td>15.209</td>\n",
              "      <td>NaN</td>\n",
              "      <td>696.466</td>\n",
              "    </tr>\n",
              "    <tr>\n",
              "      <th>20771</th>\n",
              "      <td>47341</td>\n",
              "      <td>I</td>\n",
              "      <td>74.53</td>\n",
              "      <td>material_7</td>\n",
              "      <td>material_5</td>\n",
              "      <td>9</td>\n",
              "      <td>5</td>\n",
              "      <td>4</td>\n",
              "      <td>8</td>\n",
              "      <td>7</td>\n",
              "      <td>...</td>\n",
              "      <td>17.917</td>\n",
              "      <td>10.980</td>\n",
              "      <td>16.027</td>\n",
              "      <td>15.694</td>\n",
              "      <td>13.564</td>\n",
              "      <td>15.494</td>\n",
              "      <td>15.296</td>\n",
              "      <td>13.812</td>\n",
              "      <td>16.501</td>\n",
              "      <td>613.249</td>\n",
              "    </tr>\n",
              "    <tr>\n",
              "      <th>20772</th>\n",
              "      <td>47342</td>\n",
              "      <td>I</td>\n",
              "      <td>67.73</td>\n",
              "      <td>material_7</td>\n",
              "      <td>material_5</td>\n",
              "      <td>9</td>\n",
              "      <td>5</td>\n",
              "      <td>10</td>\n",
              "      <td>11</td>\n",
              "      <td>2</td>\n",
              "      <td>...</td>\n",
              "      <td>19.630</td>\n",
              "      <td>10.436</td>\n",
              "      <td>16.137</td>\n",
              "      <td>20.612</td>\n",
              "      <td>11.134</td>\n",
              "      <td>16.519</td>\n",
              "      <td>15.525</td>\n",
              "      <td>14.175</td>\n",
              "      <td>17.728</td>\n",
              "      <td>783.349</td>\n",
              "    </tr>\n",
              "    <tr>\n",
              "      <th>20773</th>\n",
              "      <td>47343</td>\n",
              "      <td>I</td>\n",
              "      <td>126.15</td>\n",
              "      <td>material_7</td>\n",
              "      <td>material_5</td>\n",
              "      <td>9</td>\n",
              "      <td>5</td>\n",
              "      <td>8</td>\n",
              "      <td>16</td>\n",
              "      <td>11</td>\n",
              "      <td>...</td>\n",
              "      <td>19.575</td>\n",
              "      <td>12.672</td>\n",
              "      <td>15.422</td>\n",
              "      <td>19.496</td>\n",
              "      <td>9.319</td>\n",
              "      <td>15.817</td>\n",
              "      <td>17.403</td>\n",
              "      <td>16.437</td>\n",
              "      <td>15.179</td>\n",
              "      <td>745.210</td>\n",
              "    </tr>\n",
              "    <tr>\n",
              "      <th>20774</th>\n",
              "      <td>47344</td>\n",
              "      <td>I</td>\n",
              "      <td>85.97</td>\n",
              "      <td>material_7</td>\n",
              "      <td>material_5</td>\n",
              "      <td>9</td>\n",
              "      <td>5</td>\n",
              "      <td>0</td>\n",
              "      <td>11</td>\n",
              "      <td>11</td>\n",
              "      <td>...</td>\n",
              "      <td>19.253</td>\n",
              "      <td>9.977</td>\n",
              "      <td>17.270</td>\n",
              "      <td>17.924</td>\n",
              "      <td>13.726</td>\n",
              "      <td>14.605</td>\n",
              "      <td>17.460</td>\n",
              "      <td>16.261</td>\n",
              "      <td>16.482</td>\n",
              "      <td>647.980</td>\n",
              "    </tr>\n",
              "  </tbody>\n",
              "</table>\n",
              "<p>20775 rows × 25 columns</p>\n",
              "</div>"
            ],
            "text/plain": [
              "          id product_code  loading attribute_0 attribute_1  attribute_2  \\\n",
              "0      26570            F   119.57  material_5  material_6            6   \n",
              "1      26571            F   113.51  material_5  material_6            6   \n",
              "2      26572            F   112.16  material_5  material_6            6   \n",
              "3      26573            F   112.72  material_5  material_6            6   \n",
              "4      26574            F   208.00  material_5  material_6            6   \n",
              "...      ...          ...      ...         ...         ...          ...   \n",
              "20770  47340            I   144.74  material_7  material_5            9   \n",
              "20771  47341            I    74.53  material_7  material_5            9   \n",
              "20772  47342            I    67.73  material_7  material_5            9   \n",
              "20773  47343            I   126.15  material_7  material_5            9   \n",
              "20774  47344            I    85.97  material_7  material_5            9   \n",
              "\n",
              "       attribute_3  measurement_0  measurement_1  measurement_2  ...  \\\n",
              "0                4              6              9              6  ...   \n",
              "1                4             11              8              0  ...   \n",
              "2                4              8             12              4  ...   \n",
              "3                4              8             11             10  ...   \n",
              "4                4             14             16              8  ...   \n",
              "...            ...            ...            ...            ...  ...   \n",
              "20770            5              0              4              9  ...   \n",
              "20771            5              4              8              7  ...   \n",
              "20772            5             10             11              2  ...   \n",
              "20773            5              8             16             11  ...   \n",
              "20774            5              0             11             11  ...   \n",
              "\n",
              "       measurement_8  measurement_9  measurement_10  measurement_11  \\\n",
              "0             18.654         10.802          15.909          18.070   \n",
              "1             19.368         12.032          13.998             NaN   \n",
              "2             17.774         11.743          17.046          18.086   \n",
              "3             18.948         11.790          18.165          16.163   \n",
              "4             19.141         12.370          14.578          17.849   \n",
              "...              ...            ...             ...             ...   \n",
              "20770         18.573         11.691             NaN          19.771   \n",
              "20771         17.917         10.980          16.027          15.694   \n",
              "20772         19.630         10.436          16.137          20.612   \n",
              "20773         19.575         12.672          15.422          19.496   \n",
              "20774         19.253          9.977          17.270          17.924   \n",
              "\n",
              "       measurement_12  measurement_13  measurement_14  measurement_15  \\\n",
              "0              13.772          13.659          16.825          13.742   \n",
              "1              12.473          17.468          16.708          14.776   \n",
              "2              10.907          13.363          15.737          17.065   \n",
              "3              10.933          15.501          15.667          12.620   \n",
              "4              11.941          16.070          16.183          13.324   \n",
              "...               ...             ...             ...             ...   \n",
              "20770          11.562          17.246          15.131          15.209   \n",
              "20771          13.564          15.494          15.296          13.812   \n",
              "20772          11.134          16.519          15.525          14.175   \n",
              "20773           9.319          15.817          17.403          16.437   \n",
              "20774          13.726          14.605          17.460          16.261   \n",
              "\n",
              "       measurement_16  measurement_17  \n",
              "0              17.710         634.612  \n",
              "1              14.102         537.037  \n",
              "2              16.021         658.995  \n",
              "3              16.111         594.301  \n",
              "4              17.150         801.044  \n",
              "...               ...             ...  \n",
              "20770             NaN         696.466  \n",
              "20771          16.501         613.249  \n",
              "20772          17.728         783.349  \n",
              "20773          15.179         745.210  \n",
              "20774          16.482         647.980  \n",
              "\n",
              "[20775 rows x 25 columns]"
            ]
          },
          "execution_count": 5,
          "metadata": {},
          "output_type": "execute_result"
        }
      ],
      "source": [
        "test"
      ]
    },
    {
      "cell_type": "code",
      "execution_count": null,
      "metadata": {
        "colab": {
          "base_uri": "https://localhost:8080/"
        },
        "id": "b1WPjwPhhwn8",
        "outputId": "b2893179-c8e2-4dcd-cf4c-5ff613847a85"
      },
      "outputs": [
        {
          "data": {
            "text/plain": [
              "Index(['id', 'product_code', 'loading', 'attribute_0', 'attribute_1',\n",
              "       'attribute_2', 'attribute_3', 'measurement_0', 'measurement_1',\n",
              "       'measurement_2', 'measurement_3', 'measurement_4', 'measurement_5',\n",
              "       'measurement_6', 'measurement_7', 'measurement_8', 'measurement_9',\n",
              "       'measurement_10', 'measurement_11', 'measurement_12', 'measurement_13',\n",
              "       'measurement_14', 'measurement_15', 'measurement_16', 'measurement_17',\n",
              "       'failure'],\n",
              "      dtype='object')"
            ]
          },
          "execution_count": 6,
          "metadata": {},
          "output_type": "execute_result"
        }
      ],
      "source": [
        "train.columns"
      ]
    },
    {
      "cell_type": "code",
      "execution_count": null,
      "metadata": {
        "colab": {
          "base_uri": "https://localhost:8080/"
        },
        "id": "dq7M3nGbiDrt",
        "outputId": "777455ee-b357-48a7-aadf-ab5d476584ba"
      },
      "outputs": [
        {
          "data": {
            "text/plain": [
              "Index(['id', 'product_code', 'loading', 'attribute_0', 'attribute_1',\n",
              "       'attribute_2', 'attribute_3', 'measurement_0', 'measurement_1',\n",
              "       'measurement_2', 'measurement_3', 'measurement_4', 'measurement_5',\n",
              "       'measurement_6', 'measurement_7', 'measurement_8', 'measurement_9',\n",
              "       'measurement_10', 'measurement_11', 'measurement_12', 'measurement_13',\n",
              "       'measurement_14', 'measurement_15', 'measurement_16', 'measurement_17'],\n",
              "      dtype='object')"
            ]
          },
          "execution_count": 7,
          "metadata": {},
          "output_type": "execute_result"
        }
      ],
      "source": [
        "test.columns"
      ]
    },
    {
      "cell_type": "markdown",
      "metadata": {
        "id": "SRFwYpTdp6Bq"
      },
      "source": [
        "### Avaliando valores ausentes"
      ]
    },
    {
      "cell_type": "code",
      "execution_count": null,
      "metadata": {
        "colab": {
          "base_uri": "https://localhost:8080/"
        },
        "id": "V3CFby68p-Wz",
        "outputId": "77464b21-2d32-4ce9-b31a-2b6f54ea8738"
      },
      "outputs": [
        {
          "name": "stdout",
          "output_type": "stream",
          "text": [
            "<class 'pandas.core.frame.DataFrame'>\n",
            "RangeIndex: 26570 entries, 0 to 26569\n",
            "Data columns (total 26 columns):\n",
            " #   Column          Non-Null Count  Dtype  \n",
            "---  ------          --------------  -----  \n",
            " 0   id              26570 non-null  int64  \n",
            " 1   product_code    26570 non-null  object \n",
            " 2   loading         26320 non-null  float64\n",
            " 3   attribute_0     26570 non-null  object \n",
            " 4   attribute_1     26570 non-null  object \n",
            " 5   attribute_2     26570 non-null  int64  \n",
            " 6   attribute_3     26570 non-null  int64  \n",
            " 7   measurement_0   26570 non-null  int64  \n",
            " 8   measurement_1   26570 non-null  int64  \n",
            " 9   measurement_2   26570 non-null  int64  \n",
            " 10  measurement_3   26189 non-null  float64\n",
            " 11  measurement_4   26032 non-null  float64\n",
            " 12  measurement_5   25894 non-null  float64\n",
            " 13  measurement_6   25774 non-null  float64\n",
            " 14  measurement_7   25633 non-null  float64\n",
            " 15  measurement_8   25522 non-null  float64\n",
            " 16  measurement_9   25343 non-null  float64\n",
            " 17  measurement_10  25270 non-null  float64\n",
            " 18  measurement_11  25102 non-null  float64\n",
            " 19  measurement_12  24969 non-null  float64\n",
            " 20  measurement_13  24796 non-null  float64\n",
            " 21  measurement_14  24696 non-null  float64\n",
            " 22  measurement_15  24561 non-null  float64\n",
            " 23  measurement_16  24460 non-null  float64\n",
            " 24  measurement_17  24286 non-null  float64\n",
            " 25  failure         26570 non-null  int64  \n",
            "dtypes: float64(16), int64(7), object(3)\n",
            "memory usage: 5.3+ MB\n"
          ]
        }
      ],
      "source": [
        "train.info()"
      ]
    },
    {
      "cell_type": "code",
      "execution_count": null,
      "metadata": {
        "id": "WhEVKe-mqZCM"
      },
      "outputs": [],
      "source": [
        "train"
      ]
    },
    {
      "cell_type": "markdown",
      "metadata": {
        "id": "KXdJ2m0XiIA1"
      },
      "source": [
        "### Avaliando as Features!"
      ]
    },
    {
      "cell_type": "code",
      "execution_count": null,
      "metadata": {
        "colab": {
          "base_uri": "https://localhost:8080/"
        },
        "id": "kOJdqgJWiLlA",
        "outputId": "c69d062c-5568-4f63-9c6f-e77bac73fedf"
      },
      "outputs": [
        {
          "name": "stdout",
          "output_type": "stream",
          "text": [
            "id : [    0     1     2 ... 26567 26568 26569]\n",
            "product_code : ['A' 'B' 'C' 'D' 'E']\n",
            "loading : [ 80.1   84.89  82.43 ... 171.32 124.77 106.38]\n",
            "attribute_0 : ['material_7' 'material_5']\n",
            "attribute_1 : ['material_8' 'material_5' 'material_6']\n",
            "attribute_2 : [9 8 5 6]\n",
            "attribute_3 : [5 8 6 9]\n",
            "measurement_0 : [ 7 14 12 13  9 11  4 10  6  8 21 15 17 18 19 16  5 25  3  1 23 20 22  2\n",
            " 26 24  0 29 27]\n",
            "measurement_1 : [ 8  3  1  2  4  6  0  9  5  7 10 12 11 13 17 14 16 15 18 20 24 22 21 19\n",
            " 23 27 25 26 29 28]\n",
            "measurement_2 : [ 4  3  5  6  8  0  7  2 10  9 15 12 11  1 13 16 14 19 17 18 20 21 23 24\n",
            " 22]\n",
            "measurement_3 : [18.04  18.213 18.057 ... 16.393 15.503 15.835]\n",
            "measurement_4 : [12.518 11.54  11.652 ... 13.702  8.35  13.914]\n",
            "measurement_5 : [15.748 17.717 16.738 ... 19.683 15.075 14.508]\n",
            "measurement_6 : [19.292 17.893 18.24  ... 19.274 15.636 19.396]\n",
            "measurement_7 : [11.739 12.748 12.718 ... 14.58   9.169  8.926]\n",
            "measurement_8 : [20.155 17.889 18.288 ... 20.632 16.453 21.405]\n",
            "measurement_9 : [10.672 12.448 12.715 ...  9.159 10.173 13.634]\n",
            "measurement_10 : [15.859 17.947 15.607 ... 19.86  13.13  12.177]\n",
            "measurement_11 : [17.594 17.915    nan ... 17.208 20.995 16.046]\n",
            "measurement_12 : [15.193 11.755 13.798 ... 14.342 14.792  8.668]\n",
            "measurement_13 : [15.029 14.732 16.711 ... 13.237 13.452 18.067]\n",
            "measurement_14 : [   nan 15.425 18.631 ... 19.31  13.287 13.14 ]\n",
            "measurement_15 : [13.034 14.395 14.094 ... 17.1   16.889 17.254]\n",
            "measurement_16 : [14.684 15.631 17.946 ... 21.573 12.995 12.865]\n",
            "measurement_17 : [764.1   682.057 663.376 ... 750.364 730.156 602.354]\n",
            "failure : [0 1]\n"
          ]
        }
      ],
      "source": [
        "for feature in train.columns:\n",
        "    print(f'{feature} : {train[feature].unique()}')"
      ]
    },
    {
      "cell_type": "code",
      "execution_count": null,
      "metadata": {
        "colab": {
          "base_uri": "https://localhost:8080/",
          "height": 302
        },
        "id": "fWybw23BoYP5",
        "outputId": "b6bcb8ca-3a74-4a9e-9423-3bd8ffc3af28"
      },
      "outputs": [
        {
          "data": {
            "text/plain": [
              "<AxesSubplot:xlabel='loading', ylabel='Count'>"
            ]
          },
          "execution_count": 9,
          "metadata": {},
          "output_type": "execute_result"
        },
        {
          "data": {
            "image/png": "[encoded data removed]",
            "text/plain": [
              "<Figure size 432x288 with 1 Axes>"
            ]
          },
          "metadata": {},
          "output_type": "display_data"
        }
      ],
      "source": [
        "sns.histplot(data=train, x='loading')"
      ]
    },
    {
      "cell_type": "code",
      "execution_count": null,
      "metadata": {
        "colab": {
          "base_uri": "https://localhost:8080/",
          "height": 302
        },
        "id": "zg7HjMlDpG96",
        "outputId": "9ebff79c-543f-442f-befe-e0db14af25d9"
      },
      "outputs": [
        {
          "data": {
            "text/plain": [
              "<AxesSubplot:xlabel='measurement_16', ylabel='Count'>"
            ]
          },
          "execution_count": 10,
          "metadata": {},
          "output_type": "execute_result"
        },
        {
          "data": {
            "image/png": "[encoded data removed]",
            "text/plain": [
              "<Figure size 432x288 with 1 Axes>"
            ]
          },
          "metadata": {},
          "output_type": "display_data"
        }
      ],
      "source": [
        "sns.histplot(data=train, x='measurement_16')"
      ]
    },
    {
      "cell_type": "markdown",
      "metadata": {
        "id": "NvEb0Mcxfl1b"
      },
      "source": [
        "# Sample Submission\n",
        "\n",
        "A sample submission teve o desempenho de 0.50000 de score ROC"
      ]
    },
    {
      "cell_type": "code",
      "execution_count": null,
      "metadata": {
        "id": "nxABeLTLfs6G"
      },
      "outputs": [],
      "source": [
        "ROC = 0.50000"
      ]
    },
    {
      "cell_type": "markdown",
      "metadata": {
        "id": "o67metrgg1lC"
      },
      "source": [
        "## Criando o modelo basico\n",
        "\n",
        "Como modelo inicial iremos utilizar o Hist Gradient Boosting Classifier\n",
        "ele permite consegue utilizar dados ausentes para treinar o modelo.\n",
        "\n",
        "Iremos desconciderar todos as features categoricas."
      ]
    },
    {
      "cell_type": "code",
      "execution_count": null,
      "metadata": {
        "colab": {
          "base_uri": "https://localhost:8080/"
        },
        "id": "0BpKe_VHg4Yu",
        "outputId": "b98804d2-8b03-473f-d706-387c646c9992"
      },
      "outputs": [
        {
          "data": {
            "text/plain": [
              "((21256, 19), (21256,), (5314, 19), (5314,))"
            ]
          },
          "execution_count": 6,
          "metadata": {},
          "output_type": "execute_result"
        }
      ],
      "source": [
        "drop = ['id', 'product_code', 'attribute_0', 'attribute_1', 'attribute_2', 'attribute_3', 'failure']\n",
        "X = train.drop(columns=drop, axis=1)\n",
        "y = train['failure']\n",
        "\n",
        "X_train, X_val, y_train, y_val = train_test_split(X, y, test_size=0.2, random_state=42)\n",
        "\n",
        "dados_split = (X_train, X_val, y_train, y_val)\n",
        "dados_train = (X_train, y_train)\n",
        "dados_val = (X_val, y_val)\n",
        "\n",
        "X_train.shape, y_train.shape, X_val.shape, y_val.shape"
      ]
    },
    {
      "cell_type": "code",
      "execution_count": null,
      "metadata": {
        "colab": {
          "base_uri": "https://localhost:8080/",
          "height": 588
        },
        "id": "apAuaWjtcGmf",
        "outputId": "e78da440-c7c8-4182-b1fa-d19c51535237"
      },
      "outputs": [
        {
          "data": {
            "image/png": "[encoded data removed]",
            "text/plain": [
              "<Figure size 432x288 with 1 Axes>"
            ]
          },
          "metadata": {},
          "output_type": "display_data"
        },
        {
          "data": {
            "image/png": "[encoded data removed]",
            "text/plain": [
              "<Figure size 432x288 with 1 Axes>"
            ]
          },
          "metadata": {},
          "output_type": "display_data"
        },
        {
          "name": "stdout",
          "output_type": "stream",
          "text": [
            "Wall time: 2.25 s\n"
          ]
        }
      ],
      "source": [
        "%%time\n",
        "\n",
        "hgbc_basiline = HistGradientBoostingClassifier().fit(X_train, y_train)\n",
        "\n",
        "avaliacao(hgbc_basiline, *dados_split)"
      ]
    },
    {
      "cell_type": "markdown",
      "metadata": {
        "id": "szlTp7FEyqMG"
      },
      "source": [
        "### Avaliando o estimador\n",
        "\n",
        "A submissão da previsão gerada pelo modelo HGBC deu um ROC de 0.57232"
      ]
    },
    {
      "cell_type": "code",
      "execution_count": null,
      "metadata": {
        "colab": {
          "base_uri": "https://localhost:8080/"
        },
        "id": "0-YPvGoHufU1",
        "outputId": "001e04c7-cc58-4c4d-f5c2-4e0641c269b6"
      },
      "outputs": [
        {
          "name": "stdout",
          "output_type": "stream",
          "text": [
            "Arquivo salvo com sucesso! em: Submissoes/\n"
          ]
        }
      ],
      "source": [
        "drop = ['id', 'product_code', 'attribute_0', 'attribute_1', 'attribute_2', 'attribute_3']\n",
        "\n",
        "X_train = train.drop(drop + ['failure'], axis=1)\n",
        "y_train = train['failure']\n",
        "X_test = test.drop(drop, axis=1)\n",
        "\n",
        "hgbc_sub = HistGradientBoostingClassifier().fit(X_train, y_train)\n",
        "\n",
        "id_test = test['id']\n",
        "cabecalho = ['id', 'failure']\n",
        "submissao(hgbc_sub, X_test, id_test, cabecalho='failure', nome='HGBC_3')"
      ]
    },
    {
      "cell_type": "markdown",
      "metadata": {
        "id": "1RakLFbKoHh-"
      },
      "source": [
        "## Melhorando os dados!\n"
      ]
    },
    {
      "cell_type": "code",
      "execution_count": null,
      "metadata": {
        "colab": {
          "base_uri": "https://localhost:8080/"
        },
        "id": "JZAhJOt7zTFp",
        "outputId": "67a36605-75ad-41c1-9afe-8bb9d2c30ce2"
      },
      "outputs": [
        {
          "data": {
            "text/plain": [
              "id                   0\n",
              "product_code         0\n",
              "loading            250\n",
              "attribute_0          0\n",
              "attribute_1          0\n",
              "attribute_2          0\n",
              "attribute_3          0\n",
              "measurement_0        0\n",
              "measurement_1        0\n",
              "measurement_2        0\n",
              "measurement_3      381\n",
              "measurement_4      538\n",
              "measurement_5      676\n",
              "measurement_6      796\n",
              "measurement_7      937\n",
              "measurement_8     1048\n",
              "measurement_9     1227\n",
              "measurement_10    1300\n",
              "measurement_11    1468\n",
              "measurement_12    1601\n",
              "measurement_13    1774\n",
              "measurement_14    1874\n",
              "measurement_15    2009\n",
              "measurement_16    2110\n",
              "measurement_17    2284\n",
              "failure              0\n",
              "dtype: int64"
            ]
          },
          "execution_count": 5,
          "metadata": {},
          "output_type": "execute_result"
        }
      ],
      "source": [
        "train.isnull().sum()"
      ]
    },
    {
      "cell_type": "code",
      "execution_count": null,
      "metadata": {
        "colab": {
          "base_uri": "https://localhost:8080/"
        },
        "id": "Jqp6fmxtrDLs",
        "outputId": "205c2af6-9785-4895-bb52-6a94f006daaf"
      },
      "outputs": [
        {
          "data": {
            "text/plain": [
              "((9746, 19), (9746,), (2437, 19), (2437,))"
            ]
          },
          "execution_count": 8,
          "metadata": {},
          "output_type": "execute_result"
        }
      ],
      "source": [
        "drop = ['id', 'product_code', 'attribute_0', 'attribute_1', 'attribute_2', 'attribute_3', 'failure']\n",
        "df_train = train.dropna()\n",
        "X = df_train.drop(columns=drop, axis=1)\n",
        "y = df_train['failure']\n",
        "\n",
        "\n",
        "X_train, X_val, y_train, y_val = train_test_split(X, y, test_size=0.2, random_state=42)\n",
        "\n",
        "dados_split = (X_train, X_val, y_train, y_val)\n",
        "dados_train = (X_train, y_train)\n",
        "dados_val = (X_val, y_val)\n",
        "\n",
        "X_train.shape, y_train.shape, X_val.shape, y_val.shape"
      ]
    },
    {
      "cell_type": "code",
      "execution_count": null,
      "metadata": {
        "colab": {
          "base_uri": "https://localhost:8080/",
          "height": 588
        },
        "id": "KQC0URqGx7H5",
        "outputId": "f69decee-9cc5-49f0-c39e-2396e380fbc2"
      },
      "outputs": [
        {
          "data": {
            "image/png": "[encoded data removed]",
            "text/plain": [
              "<Figure size 432x288 with 1 Axes>"
            ]
          },
          "metadata": {},
          "output_type": "display_data"
        },
        {
          "data": {
            "image/png": "[encoded data removed]",
            "text/plain": [
              "<Figure size 432x288 with 1 Axes>"
            ]
          },
          "metadata": {},
          "output_type": "display_data"
        },
        {
          "name": "stdout",
          "output_type": "stream",
          "text": [
            "CPU times: user 936 ms, sys: 548 ms, total: 1.48 s\n",
            "Wall time: 1.14 s\n"
          ]
        }
      ],
      "source": [
        "%%time\n",
        "\n",
        "lr_basiline = LogisticRegression().fit(*dados_train)\n",
        "\n",
        "avaliacao(lr_basiline, *dados_split)"
      ]
    },
    {
      "cell_type": "code",
      "execution_count": null,
      "metadata": {
        "colab": {
          "base_uri": "https://localhost:8080/"
        },
        "id": "Ja-mfl6NrY7x",
        "outputId": "97a850b0-2aba-4794-cdb0-0b68cb460bd5"
      },
      "outputs": [
        {
          "data": {
            "text/plain": [
              "id                0\n",
              "product_code      0\n",
              "loading           0\n",
              "attribute_0       0\n",
              "attribute_1       0\n",
              "attribute_2       0\n",
              "attribute_3       0\n",
              "measurement_0     0\n",
              "measurement_1     0\n",
              "measurement_2     0\n",
              "measurement_3     0\n",
              "measurement_4     0\n",
              "measurement_5     0\n",
              "measurement_6     0\n",
              "measurement_7     0\n",
              "measurement_8     0\n",
              "measurement_9     0\n",
              "measurement_10    0\n",
              "measurement_11    0\n",
              "measurement_12    0\n",
              "measurement_13    0\n",
              "measurement_14    0\n",
              "measurement_15    0\n",
              "measurement_16    0\n",
              "measurement_17    0\n",
              "failure           0\n",
              "dtype: int64"
            ]
          },
          "execution_count": 7,
          "metadata": {},
          "output_type": "execute_result"
        }
      ],
      "source": [
        "df_train = train.dropna()\n",
        "df_train.isna().sum()"
      ]
    },
    {
      "cell_type": "markdown",
      "metadata": {
        "id": "NiyAR4Furbdg"
      },
      "source": [
        "Utilizando todos os dados!"
      ]
    },
    {
      "cell_type": "code",
      "execution_count": null,
      "metadata": {
        "id": "r0RUAqQrPTfI"
      },
      "outputs": [],
      "source": [
        "def val_split(train, test, Id, predicao):\n",
        "    \"\"\"\n",
        "    Retorna: X_train, X_val, X_test, y_train, y_val\n",
        "    \"\"\"\n",
        "    X = train.drop(columns=[Id, predicao, 'product_code', 'attribute_1'])\n",
        "    y = train[predicao]\n",
        "    X_test = test.drop(columns=[Id, 'product_code', 'attribute_1'])\n",
        "    \n",
        "    X_train, X_val, y_train, y_val = train_test_split(X, y, test_size=0.2, random_state=42, stratify=y)\n",
        "    \n",
        "    return X_train, X_val, X_test, y_train, y_val\n",
        "      \n",
        "    \n",
        "def feature_cat_num(X_train):\n",
        "    \n",
        "    features_cat = X_train.select_dtypes(exclude=np.number).columns.tolist()\n",
        "    features_num = X_train.select_dtypes(include=np.number).columns.tolist()\n",
        "    \n",
        "    return features_cat, features_num\n",
        "\n",
        "def transformer(X_train):\n",
        "    \n",
        "    features_cat, features_num = feature_cat_num(X_train)\n",
        "    \n",
        "    pipe_cat = Pipeline([('input_cat', SimpleImputer(strategy='constant', fill_value='unknown')),\n",
        "                    ('onehot', OneHotEncoder())])\n",
        "    \n",
        "    pipe_num = Pipeline([('input_num', SimpleImputer(strategy='mean')),\n",
        "                     ('std', StandardScaler())])\n",
        "    \n",
        "    pre_process = ColumnTransformer([('transform_num', pipe_num, features_num),\n",
        "                                     ('transform_cat', pipe_cat, features_cat)])\n",
        "    \n",
        "    return pre_process\n",
        "    "
      ]
    },
    {
      "cell_type": "code",
      "execution_count": null,
      "metadata": {
        "id": "kY9Nkr6LPTfJ"
      },
      "outputs": [],
      "source": [
        "X_train, X_val, X_test, y_train, y_val = val_split(train, test, 'id', 'failure')\n",
        "\n",
        "pipe_pre = transformer(X_train)"
      ]
    },
    {
      "cell_type": "code",
      "execution_count": null,
      "metadata": {
        "tags": [],
        "id": "MigW_qYWPTfJ",
        "outputId": "c54d1b8b-8e01-4f78-91ee-4c8abad668dd"
      },
      "outputs": [
        {
          "data": {
            "text/plain": [
              "Pipeline(steps=[('pre_processador',\n",
              "                 ColumnTransformer(transformers=[('transform_num',\n",
              "                                                  Pipeline(steps=[('input_num',\n",
              "                                                                   SimpleImputer()),\n",
              "                                                                  ('std',\n",
              "                                                                   StandardScaler())]),\n",
              "                                                  ['loading', 'attribute_2',\n",
              "                                                   'attribute_3',\n",
              "                                                   'measurement_0',\n",
              "                                                   'measurement_1',\n",
              "                                                   'measurement_2',\n",
              "                                                   'measurement_3',\n",
              "                                                   'measurement_4',\n",
              "                                                   'measurement_5',\n",
              "                                                   'measurement_6',\n",
              "                                                   'measurement_7',\n",
              "                                                   'measurement_8',\n",
              "                                                   'measurement_9',\n",
              "                                                   'measurement_10',\n",
              "                                                   'measurement_11',\n",
              "                                                   'measurement_12',\n",
              "                                                   'measurement_13',\n",
              "                                                   'measurement_14',\n",
              "                                                   'measurement_15',\n",
              "                                                   'measurement_16',\n",
              "                                                   'measurement_17']),\n",
              "                                                 ('transform_cat',\n",
              "                                                  Pipeline(steps=[('input_cat',\n",
              "                                                                   SimpleImputer(fill_value='unknown',\n",
              "                                                                                 strategy='constant')),\n",
              "                                                                  ('onehot',\n",
              "                                                                   OneHotEncoder())]),\n",
              "                                                  ['attribute_0'])])),\n",
              "                ('Log_reg', LogisticRegression())])"
            ]
          },
          "execution_count": 31,
          "metadata": {},
          "output_type": "execute_result"
        }
      ],
      "source": [
        "pipe_model_log_reg = Pipeline([('pre_processador', pipe_pre),\n",
        "                               ('Log_reg', LogisticRegression())])\n",
        "\n",
        "pipe_model_log_reg.fit(X_train, y_train)"
      ]
    },
    {
      "cell_type": "code",
      "execution_count": null,
      "metadata": {
        "id": "a6knfVHGPTfK",
        "outputId": "84469bb9-8dd7-460f-fbcf-e9ffce220cb8"
      },
      "outputs": [
        {
          "data": {
            "image/png": "[encoded data removed]",
            "text/plain": [
              "<Figure size 432x288 with 1 Axes>"
            ]
          },
          "metadata": {},
          "output_type": "display_data"
        },
        {
          "data": {
            "image/png": "[encoded data removed]",
            "text/plain": [
              "<Figure size 432x288 with 1 Axes>"
            ]
          },
          "metadata": {},
          "output_type": "display_data"
        }
      ],
      "source": [
        "avaliacao(pipe_model_log_reg, X_train, X_val, y_train, y_val)"
      ]
    },
    {
      "cell_type": "code",
      "execution_count": null,
      "metadata": {
        "tags": [],
        "id": "4nOcSR5SPTfL",
        "outputId": "fb1468f9-aa21-45b9-fd6d-3d2324b11971"
      },
      "outputs": [
        {
          "name": "stdout",
          "output_type": "stream",
          "text": [
            "Arquivo salvo com sucesso! em: Submissoes/\n"
          ]
        }
      ],
      "source": [
        "id_test = test['id']\n",
        "cabecalho = 'failure'\n",
        "nome = \"Pipe_Logistic_Regression\"\n",
        "\n",
        "submissao(pipe_model_log_reg, X_test, id_test, cabecalho, nome)"
      ]
    },
    {
      "cell_type": "code",
      "execution_count": null,
      "metadata": {
        "id": "ANNxZRnlPTfM",
        "outputId": "a3bc14e1-4037-438a-cf52-63e4aab9766c"
      },
      "outputs": [
        {
          "data": {
            "text/plain": [
              "array([0.19260434, 0.26902316, 0.12007874, ..., 0.1830026 , 0.24536227,\n",
              "       0.13204676])"
            ]
          },
          "execution_count": 58,
          "metadata": {},
          "output_type": "execute_result"
        }
      ],
      "source": [
        "pipe_model_log_reg.predict_proba(X_val)[:,-1]"
      ]
    },
    {
      "cell_type": "code",
      "execution_count": null,
      "metadata": {
        "tags": [],
        "id": "piCAjrUKPTfO",
        "outputId": "0776539a-610d-4c9f-bac5-e574e155fe1e"
      },
      "outputs": [
        {
          "ename": "ValueError",
          "evalue": "Found unknown categories ['I', 'F', 'G', 'H'] in column 0 during transform",
          "output_type": "error",
          "traceback": [
            "\u001b[1;31m---------------------------------------------------------------------------\u001b[0m",
            "\u001b[1;31mValueError\u001b[0m                                Traceback (most recent call last)",
            "\u001b[1;32m<ipython-input-17-74091185ffd7>\u001b[0m in \u001b[0;36m<module>\u001b[1;34m\u001b[0m\n\u001b[1;32m----> 1\u001b[1;33m \u001b[0mpipe_model_log_reg\u001b[0m\u001b[1;33m.\u001b[0m\u001b[0mpredict\u001b[0m\u001b[1;33m(\u001b[0m\u001b[0mX_test\u001b[0m\u001b[1;33m)\u001b[0m\u001b[1;33m[\u001b[0m\u001b[1;33m:\u001b[0m\u001b[1;33m,\u001b[0m\u001b[1;33m-\u001b[0m\u001b[1;36m1\u001b[0m\u001b[1;33m]\u001b[0m\u001b[1;33m\u001b[0m\u001b[1;33m\u001b[0m\u001b[0m\n\u001b[0m",
            "\u001b[1;32m~\\Anaconda3\\lib\\site-packages\\sklearn\\utils\\metaestimators.py\u001b[0m in \u001b[0;36m<lambda>\u001b[1;34m(*args, **kwargs)\u001b[0m\n\u001b[0;32m    111\u001b[0m \u001b[1;33m\u001b[0m\u001b[0m\n\u001b[0;32m    112\u001b[0m             \u001b[1;31m# lambda, but not partial, allows help() to work with update_wrapper\u001b[0m\u001b[1;33m\u001b[0m\u001b[1;33m\u001b[0m\u001b[1;33m\u001b[0m\u001b[0m\n\u001b[1;32m--> 113\u001b[1;33m             \u001b[0mout\u001b[0m \u001b[1;33m=\u001b[0m \u001b[1;32mlambda\u001b[0m \u001b[1;33m*\u001b[0m\u001b[0margs\u001b[0m\u001b[1;33m,\u001b[0m \u001b[1;33m**\u001b[0m\u001b[0mkwargs\u001b[0m\u001b[1;33m:\u001b[0m \u001b[0mself\u001b[0m\u001b[1;33m.\u001b[0m\u001b[0mfn\u001b[0m\u001b[1;33m(\u001b[0m\u001b[0mobj\u001b[0m\u001b[1;33m,\u001b[0m \u001b[1;33m*\u001b[0m\u001b[0margs\u001b[0m\u001b[1;33m,\u001b[0m \u001b[1;33m**\u001b[0m\u001b[0mkwargs\u001b[0m\u001b[1;33m)\u001b[0m  \u001b[1;31m# noqa\u001b[0m\u001b[1;33m\u001b[0m\u001b[1;33m\u001b[0m\u001b[0m\n\u001b[0m\u001b[0;32m    114\u001b[0m         \u001b[1;32melse\u001b[0m\u001b[1;33m:\u001b[0m\u001b[1;33m\u001b[0m\u001b[1;33m\u001b[0m\u001b[0m\n\u001b[0;32m    115\u001b[0m \u001b[1;33m\u001b[0m\u001b[0m\n",
            "\u001b[1;32m~\\Anaconda3\\lib\\site-packages\\sklearn\\pipeline.py\u001b[0m in \u001b[0;36mpredict\u001b[1;34m(self, X, **predict_params)\u001b[0m\n\u001b[0;32m    467\u001b[0m         \u001b[0mXt\u001b[0m \u001b[1;33m=\u001b[0m \u001b[0mX\u001b[0m\u001b[1;33m\u001b[0m\u001b[1;33m\u001b[0m\u001b[0m\n\u001b[0;32m    468\u001b[0m         \u001b[1;32mfor\u001b[0m \u001b[0m_\u001b[0m\u001b[1;33m,\u001b[0m \u001b[0mname\u001b[0m\u001b[1;33m,\u001b[0m \u001b[0mtransform\u001b[0m \u001b[1;32min\u001b[0m \u001b[0mself\u001b[0m\u001b[1;33m.\u001b[0m\u001b[0m_iter\u001b[0m\u001b[1;33m(\u001b[0m\u001b[0mwith_final\u001b[0m\u001b[1;33m=\u001b[0m\u001b[1;32mFalse\u001b[0m\u001b[1;33m)\u001b[0m\u001b[1;33m:\u001b[0m\u001b[1;33m\u001b[0m\u001b[1;33m\u001b[0m\u001b[0m\n\u001b[1;32m--> 469\u001b[1;33m             \u001b[0mXt\u001b[0m \u001b[1;33m=\u001b[0m \u001b[0mtransform\u001b[0m\u001b[1;33m.\u001b[0m\u001b[0mtransform\u001b[0m\u001b[1;33m(\u001b[0m\u001b[0mXt\u001b[0m\u001b[1;33m)\u001b[0m\u001b[1;33m\u001b[0m\u001b[1;33m\u001b[0m\u001b[0m\n\u001b[0m\u001b[0;32m    470\u001b[0m         \u001b[1;32mreturn\u001b[0m \u001b[0mself\u001b[0m\u001b[1;33m.\u001b[0m\u001b[0msteps\u001b[0m\u001b[1;33m[\u001b[0m\u001b[1;33m-\u001b[0m\u001b[1;36m1\u001b[0m\u001b[1;33m]\u001b[0m\u001b[1;33m[\u001b[0m\u001b[1;36m1\u001b[0m\u001b[1;33m]\u001b[0m\u001b[1;33m.\u001b[0m\u001b[0mpredict\u001b[0m\u001b[1;33m(\u001b[0m\u001b[0mXt\u001b[0m\u001b[1;33m,\u001b[0m \u001b[1;33m**\u001b[0m\u001b[0mpredict_params\u001b[0m\u001b[1;33m)\u001b[0m\u001b[1;33m\u001b[0m\u001b[1;33m\u001b[0m\u001b[0m\n\u001b[0;32m    471\u001b[0m \u001b[1;33m\u001b[0m\u001b[0m\n",
            "\u001b[1;32m~\\Anaconda3\\lib\\site-packages\\sklearn\\compose\\_column_transformer.py\u001b[0m in \u001b[0;36mtransform\u001b[1;34m(self, X)\u001b[0m\n\u001b[0;32m    746\u001b[0m             \u001b[0mself\u001b[0m\u001b[1;33m.\u001b[0m\u001b[0m_check_n_features\u001b[0m\u001b[1;33m(\u001b[0m\u001b[0mX\u001b[0m\u001b[1;33m,\u001b[0m \u001b[0mreset\u001b[0m\u001b[1;33m=\u001b[0m\u001b[1;32mFalse\u001b[0m\u001b[1;33m)\u001b[0m\u001b[1;33m\u001b[0m\u001b[1;33m\u001b[0m\u001b[0m\n\u001b[0;32m    747\u001b[0m \u001b[1;33m\u001b[0m\u001b[0m\n\u001b[1;32m--> 748\u001b[1;33m         Xs = self._fit_transform(\n\u001b[0m\u001b[0;32m    749\u001b[0m             \u001b[0mX\u001b[0m\u001b[1;33m,\u001b[0m\u001b[1;33m\u001b[0m\u001b[1;33m\u001b[0m\u001b[0m\n\u001b[0;32m    750\u001b[0m             \u001b[1;32mNone\u001b[0m\u001b[1;33m,\u001b[0m\u001b[1;33m\u001b[0m\u001b[1;33m\u001b[0m\u001b[0m\n",
            "\u001b[1;32m~\\Anaconda3\\lib\\site-packages\\sklearn\\compose\\_column_transformer.py\u001b[0m in \u001b[0;36m_fit_transform\u001b[1;34m(self, X, y, func, fitted, column_as_strings)\u001b[0m\n\u001b[0;32m    604\u001b[0m         )\n\u001b[0;32m    605\u001b[0m         \u001b[1;32mtry\u001b[0m\u001b[1;33m:\u001b[0m\u001b[1;33m\u001b[0m\u001b[1;33m\u001b[0m\u001b[0m\n\u001b[1;32m--> 606\u001b[1;33m             return Parallel(n_jobs=self.n_jobs)(\n\u001b[0m\u001b[0;32m    607\u001b[0m                 delayed(func)(\n\u001b[0;32m    608\u001b[0m                     \u001b[0mtransformer\u001b[0m\u001b[1;33m=\u001b[0m\u001b[0mclone\u001b[0m\u001b[1;33m(\u001b[0m\u001b[0mtrans\u001b[0m\u001b[1;33m)\u001b[0m \u001b[1;32mif\u001b[0m \u001b[1;32mnot\u001b[0m \u001b[0mfitted\u001b[0m \u001b[1;32melse\u001b[0m \u001b[0mtrans\u001b[0m\u001b[1;33m,\u001b[0m\u001b[1;33m\u001b[0m\u001b[1;33m\u001b[0m\u001b[0m\n",
            "\u001b[1;32m~\\Anaconda3\\lib\\site-packages\\joblib\\parallel.py\u001b[0m in \u001b[0;36m__call__\u001b[1;34m(self, iterable)\u001b[0m\n\u001b[0;32m   1042\u001b[0m                 \u001b[0mself\u001b[0m\u001b[1;33m.\u001b[0m\u001b[0m_iterating\u001b[0m \u001b[1;33m=\u001b[0m \u001b[0mself\u001b[0m\u001b[1;33m.\u001b[0m\u001b[0m_original_iterator\u001b[0m \u001b[1;32mis\u001b[0m \u001b[1;32mnot\u001b[0m \u001b[1;32mNone\u001b[0m\u001b[1;33m\u001b[0m\u001b[1;33m\u001b[0m\u001b[0m\n\u001b[0;32m   1043\u001b[0m \u001b[1;33m\u001b[0m\u001b[0m\n\u001b[1;32m-> 1044\u001b[1;33m             \u001b[1;32mwhile\u001b[0m \u001b[0mself\u001b[0m\u001b[1;33m.\u001b[0m\u001b[0mdispatch_one_batch\u001b[0m\u001b[1;33m(\u001b[0m\u001b[0miterator\u001b[0m\u001b[1;33m)\u001b[0m\u001b[1;33m:\u001b[0m\u001b[1;33m\u001b[0m\u001b[1;33m\u001b[0m\u001b[0m\n\u001b[0m\u001b[0;32m   1045\u001b[0m                 \u001b[1;32mpass\u001b[0m\u001b[1;33m\u001b[0m\u001b[1;33m\u001b[0m\u001b[0m\n\u001b[0;32m   1046\u001b[0m \u001b[1;33m\u001b[0m\u001b[0m\n",
            "\u001b[1;32m~\\Anaconda3\\lib\\site-packages\\joblib\\parallel.py\u001b[0m in \u001b[0;36mdispatch_one_batch\u001b[1;34m(self, iterator)\u001b[0m\n\u001b[0;32m    857\u001b[0m                 \u001b[1;32mreturn\u001b[0m \u001b[1;32mFalse\u001b[0m\u001b[1;33m\u001b[0m\u001b[1;33m\u001b[0m\u001b[0m\n\u001b[0;32m    858\u001b[0m             \u001b[1;32melse\u001b[0m\u001b[1;33m:\u001b[0m\u001b[1;33m\u001b[0m\u001b[1;33m\u001b[0m\u001b[0m\n\u001b[1;32m--> 859\u001b[1;33m                 \u001b[0mself\u001b[0m\u001b[1;33m.\u001b[0m\u001b[0m_dispatch\u001b[0m\u001b[1;33m(\u001b[0m\u001b[0mtasks\u001b[0m\u001b[1;33m)\u001b[0m\u001b[1;33m\u001b[0m\u001b[1;33m\u001b[0m\u001b[0m\n\u001b[0m\u001b[0;32m    860\u001b[0m                 \u001b[1;32mreturn\u001b[0m \u001b[1;32mTrue\u001b[0m\u001b[1;33m\u001b[0m\u001b[1;33m\u001b[0m\u001b[0m\n\u001b[0;32m    861\u001b[0m \u001b[1;33m\u001b[0m\u001b[0m\n",
            "\u001b[1;32m~\\Anaconda3\\lib\\site-packages\\joblib\\parallel.py\u001b[0m in \u001b[0;36m_dispatch\u001b[1;34m(self, batch)\u001b[0m\n\u001b[0;32m    775\u001b[0m         \u001b[1;32mwith\u001b[0m \u001b[0mself\u001b[0m\u001b[1;33m.\u001b[0m\u001b[0m_lock\u001b[0m\u001b[1;33m:\u001b[0m\u001b[1;33m\u001b[0m\u001b[1;33m\u001b[0m\u001b[0m\n\u001b[0;32m    776\u001b[0m             \u001b[0mjob_idx\u001b[0m \u001b[1;33m=\u001b[0m \u001b[0mlen\u001b[0m\u001b[1;33m(\u001b[0m\u001b[0mself\u001b[0m\u001b[1;33m.\u001b[0m\u001b[0m_jobs\u001b[0m\u001b[1;33m)\u001b[0m\u001b[1;33m\u001b[0m\u001b[1;33m\u001b[0m\u001b[0m\n\u001b[1;32m--> 777\u001b[1;33m             \u001b[0mjob\u001b[0m \u001b[1;33m=\u001b[0m \u001b[0mself\u001b[0m\u001b[1;33m.\u001b[0m\u001b[0m_backend\u001b[0m\u001b[1;33m.\u001b[0m\u001b[0mapply_async\u001b[0m\u001b[1;33m(\u001b[0m\u001b[0mbatch\u001b[0m\u001b[1;33m,\u001b[0m \u001b[0mcallback\u001b[0m\u001b[1;33m=\u001b[0m\u001b[0mcb\u001b[0m\u001b[1;33m)\u001b[0m\u001b[1;33m\u001b[0m\u001b[1;33m\u001b[0m\u001b[0m\n\u001b[0m\u001b[0;32m    778\u001b[0m             \u001b[1;31m# A job can complete so quickly than its callback is\u001b[0m\u001b[1;33m\u001b[0m\u001b[1;33m\u001b[0m\u001b[1;33m\u001b[0m\u001b[0m\n\u001b[0;32m    779\u001b[0m             \u001b[1;31m# called before we get here, causing self._jobs to\u001b[0m\u001b[1;33m\u001b[0m\u001b[1;33m\u001b[0m\u001b[1;33m\u001b[0m\u001b[0m\n",
            "\u001b[1;32m~\\Anaconda3\\lib\\site-packages\\joblib\\_parallel_backends.py\u001b[0m in \u001b[0;36mapply_async\u001b[1;34m(self, func, callback)\u001b[0m\n\u001b[0;32m    206\u001b[0m     \u001b[1;32mdef\u001b[0m \u001b[0mapply_async\u001b[0m\u001b[1;33m(\u001b[0m\u001b[0mself\u001b[0m\u001b[1;33m,\u001b[0m \u001b[0mfunc\u001b[0m\u001b[1;33m,\u001b[0m \u001b[0mcallback\u001b[0m\u001b[1;33m=\u001b[0m\u001b[1;32mNone\u001b[0m\u001b[1;33m)\u001b[0m\u001b[1;33m:\u001b[0m\u001b[1;33m\u001b[0m\u001b[1;33m\u001b[0m\u001b[0m\n\u001b[0;32m    207\u001b[0m         \u001b[1;34m\"\"\"Schedule a func to be run\"\"\"\u001b[0m\u001b[1;33m\u001b[0m\u001b[1;33m\u001b[0m\u001b[0m\n\u001b[1;32m--> 208\u001b[1;33m         \u001b[0mresult\u001b[0m \u001b[1;33m=\u001b[0m \u001b[0mImmediateResult\u001b[0m\u001b[1;33m(\u001b[0m\u001b[0mfunc\u001b[0m\u001b[1;33m)\u001b[0m\u001b[1;33m\u001b[0m\u001b[1;33m\u001b[0m\u001b[0m\n\u001b[0m\u001b[0;32m    209\u001b[0m         \u001b[1;32mif\u001b[0m \u001b[0mcallback\u001b[0m\u001b[1;33m:\u001b[0m\u001b[1;33m\u001b[0m\u001b[1;33m\u001b[0m\u001b[0m\n\u001b[0;32m    210\u001b[0m             \u001b[0mcallback\u001b[0m\u001b[1;33m(\u001b[0m\u001b[0mresult\u001b[0m\u001b[1;33m)\u001b[0m\u001b[1;33m\u001b[0m\u001b[1;33m\u001b[0m\u001b[0m\n",
            "\u001b[1;32m~\\Anaconda3\\lib\\site-packages\\joblib\\_parallel_backends.py\u001b[0m in \u001b[0;36m__init__\u001b[1;34m(self, batch)\u001b[0m\n\u001b[0;32m    570\u001b[0m         \u001b[1;31m# Don't delay the application, to avoid keeping the input\u001b[0m\u001b[1;33m\u001b[0m\u001b[1;33m\u001b[0m\u001b[1;33m\u001b[0m\u001b[0m\n\u001b[0;32m    571\u001b[0m         \u001b[1;31m# arguments in memory\u001b[0m\u001b[1;33m\u001b[0m\u001b[1;33m\u001b[0m\u001b[1;33m\u001b[0m\u001b[0m\n\u001b[1;32m--> 572\u001b[1;33m         \u001b[0mself\u001b[0m\u001b[1;33m.\u001b[0m\u001b[0mresults\u001b[0m \u001b[1;33m=\u001b[0m \u001b[0mbatch\u001b[0m\u001b[1;33m(\u001b[0m\u001b[1;33m)\u001b[0m\u001b[1;33m\u001b[0m\u001b[1;33m\u001b[0m\u001b[0m\n\u001b[0m\u001b[0;32m    573\u001b[0m \u001b[1;33m\u001b[0m\u001b[0m\n\u001b[0;32m    574\u001b[0m     \u001b[1;32mdef\u001b[0m \u001b[0mget\u001b[0m\u001b[1;33m(\u001b[0m\u001b[0mself\u001b[0m\u001b[1;33m)\u001b[0m\u001b[1;33m:\u001b[0m\u001b[1;33m\u001b[0m\u001b[1;33m\u001b[0m\u001b[0m\n",
            "\u001b[1;32m~\\Anaconda3\\lib\\site-packages\\joblib\\parallel.py\u001b[0m in \u001b[0;36m__call__\u001b[1;34m(self)\u001b[0m\n\u001b[0;32m    260\u001b[0m         \u001b[1;31m# change the default number of processes to -1\u001b[0m\u001b[1;33m\u001b[0m\u001b[1;33m\u001b[0m\u001b[1;33m\u001b[0m\u001b[0m\n\u001b[0;32m    261\u001b[0m         \u001b[1;32mwith\u001b[0m \u001b[0mparallel_backend\u001b[0m\u001b[1;33m(\u001b[0m\u001b[0mself\u001b[0m\u001b[1;33m.\u001b[0m\u001b[0m_backend\u001b[0m\u001b[1;33m,\u001b[0m \u001b[0mn_jobs\u001b[0m\u001b[1;33m=\u001b[0m\u001b[0mself\u001b[0m\u001b[1;33m.\u001b[0m\u001b[0m_n_jobs\u001b[0m\u001b[1;33m)\u001b[0m\u001b[1;33m:\u001b[0m\u001b[1;33m\u001b[0m\u001b[1;33m\u001b[0m\u001b[0m\n\u001b[1;32m--> 262\u001b[1;33m             return [func(*args, **kwargs)\n\u001b[0m\u001b[0;32m    263\u001b[0m                     for func, args, kwargs in self.items]\n\u001b[0;32m    264\u001b[0m \u001b[1;33m\u001b[0m\u001b[0m\n",
            "\u001b[1;32m~\\Anaconda3\\lib\\site-packages\\joblib\\parallel.py\u001b[0m in \u001b[0;36m<listcomp>\u001b[1;34m(.0)\u001b[0m\n\u001b[0;32m    260\u001b[0m         \u001b[1;31m# change the default number of processes to -1\u001b[0m\u001b[1;33m\u001b[0m\u001b[1;33m\u001b[0m\u001b[1;33m\u001b[0m\u001b[0m\n\u001b[0;32m    261\u001b[0m         \u001b[1;32mwith\u001b[0m \u001b[0mparallel_backend\u001b[0m\u001b[1;33m(\u001b[0m\u001b[0mself\u001b[0m\u001b[1;33m.\u001b[0m\u001b[0m_backend\u001b[0m\u001b[1;33m,\u001b[0m \u001b[0mn_jobs\u001b[0m\u001b[1;33m=\u001b[0m\u001b[0mself\u001b[0m\u001b[1;33m.\u001b[0m\u001b[0m_n_jobs\u001b[0m\u001b[1;33m)\u001b[0m\u001b[1;33m:\u001b[0m\u001b[1;33m\u001b[0m\u001b[1;33m\u001b[0m\u001b[0m\n\u001b[1;32m--> 262\u001b[1;33m             return [func(*args, **kwargs)\n\u001b[0m\u001b[0;32m    263\u001b[0m                     for func, args, kwargs in self.items]\n\u001b[0;32m    264\u001b[0m \u001b[1;33m\u001b[0m\u001b[0m\n",
            "\u001b[1;32m~\\Anaconda3\\lib\\site-packages\\sklearn\\utils\\fixes.py\u001b[0m in \u001b[0;36m__call__\u001b[1;34m(self, *args, **kwargs)\u001b[0m\n\u001b[0;32m    214\u001b[0m     \u001b[1;32mdef\u001b[0m \u001b[0m__call__\u001b[0m\u001b[1;33m(\u001b[0m\u001b[0mself\u001b[0m\u001b[1;33m,\u001b[0m \u001b[1;33m*\u001b[0m\u001b[0margs\u001b[0m\u001b[1;33m,\u001b[0m \u001b[1;33m**\u001b[0m\u001b[0mkwargs\u001b[0m\u001b[1;33m)\u001b[0m\u001b[1;33m:\u001b[0m\u001b[1;33m\u001b[0m\u001b[1;33m\u001b[0m\u001b[0m\n\u001b[0;32m    215\u001b[0m         \u001b[1;32mwith\u001b[0m \u001b[0mconfig_context\u001b[0m\u001b[1;33m(\u001b[0m\u001b[1;33m**\u001b[0m\u001b[0mself\u001b[0m\u001b[1;33m.\u001b[0m\u001b[0mconfig\u001b[0m\u001b[1;33m)\u001b[0m\u001b[1;33m:\u001b[0m\u001b[1;33m\u001b[0m\u001b[1;33m\u001b[0m\u001b[0m\n\u001b[1;32m--> 216\u001b[1;33m             \u001b[1;32mreturn\u001b[0m \u001b[0mself\u001b[0m\u001b[1;33m.\u001b[0m\u001b[0mfunction\u001b[0m\u001b[1;33m(\u001b[0m\u001b[1;33m*\u001b[0m\u001b[0margs\u001b[0m\u001b[1;33m,\u001b[0m \u001b[1;33m**\u001b[0m\u001b[0mkwargs\u001b[0m\u001b[1;33m)\u001b[0m\u001b[1;33m\u001b[0m\u001b[1;33m\u001b[0m\u001b[0m\n\u001b[0m\u001b[0;32m    217\u001b[0m \u001b[1;33m\u001b[0m\u001b[0m\n\u001b[0;32m    218\u001b[0m \u001b[1;33m\u001b[0m\u001b[0m\n",
            "\u001b[1;32m~\\Anaconda3\\lib\\site-packages\\sklearn\\pipeline.py\u001b[0m in \u001b[0;36m_transform_one\u001b[1;34m(transformer, X, y, weight, **fit_params)\u001b[0m\n\u001b[0;32m    874\u001b[0m \u001b[1;33m\u001b[0m\u001b[0m\n\u001b[0;32m    875\u001b[0m \u001b[1;32mdef\u001b[0m \u001b[0m_transform_one\u001b[0m\u001b[1;33m(\u001b[0m\u001b[0mtransformer\u001b[0m\u001b[1;33m,\u001b[0m \u001b[0mX\u001b[0m\u001b[1;33m,\u001b[0m \u001b[0my\u001b[0m\u001b[1;33m,\u001b[0m \u001b[0mweight\u001b[0m\u001b[1;33m,\u001b[0m \u001b[1;33m**\u001b[0m\u001b[0mfit_params\u001b[0m\u001b[1;33m)\u001b[0m\u001b[1;33m:\u001b[0m\u001b[1;33m\u001b[0m\u001b[1;33m\u001b[0m\u001b[0m\n\u001b[1;32m--> 876\u001b[1;33m     \u001b[0mres\u001b[0m \u001b[1;33m=\u001b[0m \u001b[0mtransformer\u001b[0m\u001b[1;33m.\u001b[0m\u001b[0mtransform\u001b[0m\u001b[1;33m(\u001b[0m\u001b[0mX\u001b[0m\u001b[1;33m)\u001b[0m\u001b[1;33m\u001b[0m\u001b[1;33m\u001b[0m\u001b[0m\n\u001b[0m\u001b[0;32m    877\u001b[0m     \u001b[1;31m# if we have a weight for this transformer, multiply output\u001b[0m\u001b[1;33m\u001b[0m\u001b[1;33m\u001b[0m\u001b[1;33m\u001b[0m\u001b[0m\n\u001b[0;32m    878\u001b[0m     \u001b[1;32mif\u001b[0m \u001b[0mweight\u001b[0m \u001b[1;32mis\u001b[0m \u001b[1;32mNone\u001b[0m\u001b[1;33m:\u001b[0m\u001b[1;33m\u001b[0m\u001b[1;33m\u001b[0m\u001b[0m\n",
            "\u001b[1;32m~\\Anaconda3\\lib\\site-packages\\sklearn\\utils\\metaestimators.py\u001b[0m in \u001b[0;36m<lambda>\u001b[1;34m(*args, **kwargs)\u001b[0m\n\u001b[0;32m    111\u001b[0m \u001b[1;33m\u001b[0m\u001b[0m\n\u001b[0;32m    112\u001b[0m             \u001b[1;31m# lambda, but not partial, allows help() to work with update_wrapper\u001b[0m\u001b[1;33m\u001b[0m\u001b[1;33m\u001b[0m\u001b[1;33m\u001b[0m\u001b[0m\n\u001b[1;32m--> 113\u001b[1;33m             \u001b[0mout\u001b[0m \u001b[1;33m=\u001b[0m \u001b[1;32mlambda\u001b[0m \u001b[1;33m*\u001b[0m\u001b[0margs\u001b[0m\u001b[1;33m,\u001b[0m \u001b[1;33m**\u001b[0m\u001b[0mkwargs\u001b[0m\u001b[1;33m:\u001b[0m \u001b[0mself\u001b[0m\u001b[1;33m.\u001b[0m\u001b[0mfn\u001b[0m\u001b[1;33m(\u001b[0m\u001b[0mobj\u001b[0m\u001b[1;33m,\u001b[0m \u001b[1;33m*\u001b[0m\u001b[0margs\u001b[0m\u001b[1;33m,\u001b[0m \u001b[1;33m**\u001b[0m\u001b[0mkwargs\u001b[0m\u001b[1;33m)\u001b[0m  \u001b[1;31m# noqa\u001b[0m\u001b[1;33m\u001b[0m\u001b[1;33m\u001b[0m\u001b[0m\n\u001b[0m\u001b[0;32m    114\u001b[0m         \u001b[1;32melse\u001b[0m\u001b[1;33m:\u001b[0m\u001b[1;33m\u001b[0m\u001b[1;33m\u001b[0m\u001b[0m\n\u001b[0;32m    115\u001b[0m \u001b[1;33m\u001b[0m\u001b[0m\n",
            "\u001b[1;32m~\\Anaconda3\\lib\\site-packages\\sklearn\\pipeline.py\u001b[0m in \u001b[0;36mtransform\u001b[1;34m(self, X)\u001b[0m\n\u001b[0;32m    645\u001b[0m         \u001b[0mXt\u001b[0m \u001b[1;33m=\u001b[0m \u001b[0mX\u001b[0m\u001b[1;33m\u001b[0m\u001b[1;33m\u001b[0m\u001b[0m\n\u001b[0;32m    646\u001b[0m         \u001b[1;32mfor\u001b[0m \u001b[0m_\u001b[0m\u001b[1;33m,\u001b[0m \u001b[0m_\u001b[0m\u001b[1;33m,\u001b[0m \u001b[0mtransform\u001b[0m \u001b[1;32min\u001b[0m \u001b[0mself\u001b[0m\u001b[1;33m.\u001b[0m\u001b[0m_iter\u001b[0m\u001b[1;33m(\u001b[0m\u001b[1;33m)\u001b[0m\u001b[1;33m:\u001b[0m\u001b[1;33m\u001b[0m\u001b[1;33m\u001b[0m\u001b[0m\n\u001b[1;32m--> 647\u001b[1;33m             \u001b[0mXt\u001b[0m \u001b[1;33m=\u001b[0m \u001b[0mtransform\u001b[0m\u001b[1;33m.\u001b[0m\u001b[0mtransform\u001b[0m\u001b[1;33m(\u001b[0m\u001b[0mXt\u001b[0m\u001b[1;33m)\u001b[0m\u001b[1;33m\u001b[0m\u001b[1;33m\u001b[0m\u001b[0m\n\u001b[0m\u001b[0;32m    648\u001b[0m         \u001b[1;32mreturn\u001b[0m \u001b[0mXt\u001b[0m\u001b[1;33m\u001b[0m\u001b[1;33m\u001b[0m\u001b[0m\n\u001b[0;32m    649\u001b[0m \u001b[1;33m\u001b[0m\u001b[0m\n",
            "\u001b[1;32m~\\Anaconda3\\lib\\site-packages\\sklearn\\preprocessing\\_encoders.py\u001b[0m in \u001b[0;36mtransform\u001b[1;34m(self, X)\u001b[0m\n\u001b[0;32m    507\u001b[0m         \u001b[1;31m# validation of X happens in _check_X called by _transform\u001b[0m\u001b[1;33m\u001b[0m\u001b[1;33m\u001b[0m\u001b[1;33m\u001b[0m\u001b[0m\n\u001b[0;32m    508\u001b[0m         \u001b[0mwarn_on_unknown\u001b[0m \u001b[1;33m=\u001b[0m \u001b[0mself\u001b[0m\u001b[1;33m.\u001b[0m\u001b[0mhandle_unknown\u001b[0m \u001b[1;33m==\u001b[0m \u001b[1;34m\"ignore\"\u001b[0m \u001b[1;32mand\u001b[0m \u001b[0mself\u001b[0m\u001b[1;33m.\u001b[0m\u001b[0mdrop\u001b[0m \u001b[1;32mis\u001b[0m \u001b[1;32mnot\u001b[0m \u001b[1;32mNone\u001b[0m\u001b[1;33m\u001b[0m\u001b[1;33m\u001b[0m\u001b[0m\n\u001b[1;32m--> 509\u001b[1;33m         X_int, X_mask = self._transform(\n\u001b[0m\u001b[0;32m    510\u001b[0m             \u001b[0mX\u001b[0m\u001b[1;33m,\u001b[0m\u001b[1;33m\u001b[0m\u001b[1;33m\u001b[0m\u001b[0m\n\u001b[0;32m    511\u001b[0m             \u001b[0mhandle_unknown\u001b[0m\u001b[1;33m=\u001b[0m\u001b[0mself\u001b[0m\u001b[1;33m.\u001b[0m\u001b[0mhandle_unknown\u001b[0m\u001b[1;33m,\u001b[0m\u001b[1;33m\u001b[0m\u001b[1;33m\u001b[0m\u001b[0m\n",
            "\u001b[1;32m~\\Anaconda3\\lib\\site-packages\\sklearn\\preprocessing\\_encoders.py\u001b[0m in \u001b[0;36m_transform\u001b[1;34m(self, X, handle_unknown, force_all_finite, warn_on_unknown)\u001b[0m\n\u001b[0;32m    140\u001b[0m                         \u001b[1;34m\" during transform\"\u001b[0m\u001b[1;33m.\u001b[0m\u001b[0mformat\u001b[0m\u001b[1;33m(\u001b[0m\u001b[0mdiff\u001b[0m\u001b[1;33m,\u001b[0m \u001b[0mi\u001b[0m\u001b[1;33m)\u001b[0m\u001b[1;33m\u001b[0m\u001b[1;33m\u001b[0m\u001b[0m\n\u001b[0;32m    141\u001b[0m                     )\n\u001b[1;32m--> 142\u001b[1;33m                     \u001b[1;32mraise\u001b[0m \u001b[0mValueError\u001b[0m\u001b[1;33m(\u001b[0m\u001b[0mmsg\u001b[0m\u001b[1;33m)\u001b[0m\u001b[1;33m\u001b[0m\u001b[1;33m\u001b[0m\u001b[0m\n\u001b[0m\u001b[0;32m    143\u001b[0m                 \u001b[1;32melse\u001b[0m\u001b[1;33m:\u001b[0m\u001b[1;33m\u001b[0m\u001b[1;33m\u001b[0m\u001b[0m\n\u001b[0;32m    144\u001b[0m                     \u001b[1;32mif\u001b[0m \u001b[0mwarn_on_unknown\u001b[0m\u001b[1;33m:\u001b[0m\u001b[1;33m\u001b[0m\u001b[1;33m\u001b[0m\u001b[0m\n",
            "\u001b[1;31mValueError\u001b[0m: Found unknown categories ['I', 'F', 'G', 'H'] in column 0 during transform"
          ]
        }
      ],
      "source": [
        "pipe_model_log_reg.predict(X_test)[:,-1]"
      ]
    },
    {
      "cell_type": "code",
      "execution_count": null,
      "metadata": {
        "id": "vd8MglxsPTfP",
        "outputId": "b92d5d51-c3ab-4348-9ace-2c7f99bc74a8"
      },
      "outputs": [
        {
          "name": "stdout",
          "output_type": "stream",
          "text": [
            "product_code : ['A' 'E' 'B' 'D' 'C']\n",
            "loading : [ 94.34 117.02 256.42 ... 176.15 231.58 181.27]\n",
            "attribute_0 : ['material_7' 'material_5']\n",
            "attribute_1 : ['material_8' 'material_6' 'material_5']\n",
            "attribute_2 : [9 6 8 5]\n",
            "attribute_3 : [5 9 8 6]\n",
            "measurement_0 : [ 6 11  5 17  9  7  1  2 14  8  4 10 12  0 15  3 18 13 21 16 19 20 22 23\n",
            " 24 25 26 29 27]\n",
            "measurement_1 : [ 2 10 13  6 12  9  5 11  8  7  4 17 15  3 16 14 19  0 21  1 23 20 18 22\n",
            " 25 24 28 27 29 26]\n",
            "measurement_2 : [ 3  7 10  8  5  2  4  6 12 11  1 16  9 14 15  0 13 17 19 18 21 23 20 24\n",
            " 22]\n",
            "measurement_3 : [16.797 17.091 17.936 ... 15.563 17.053 15.783]\n",
            "measurement_4 : [12.504 12.278 11.357 ... 13.667 13.689  9.228]\n",
            "measurement_5 : [17.534 15.997 16.163 ... 16.052 19.258 14.761]\n",
            "measurement_6 : [17.523 16.921 17.244 ... 15.618 19.249 15.212]\n",
            "measurement_7 : [12.986 12.483 12.06  ... 13.615 14.199  9.715]\n",
            "measurement_8 : [19.461 20.628 18.308 ... 17.174 21.392 20.42 ]\n",
            "measurement_9 : [10.625 10.941 10.62  ... 10.165  9.29   9.059]\n",
            "measurement_10 : [   nan 13.62  16.771 ... 21.761 18.948 14.323]\n",
            "measurement_11 : [15.828 17.654 17.423 ... 21.573 21.03  15.093]\n",
            "measurement_12 : [12.402 11.603    nan ...  8.821  9.421 13.42 ]\n",
            "measurement_13 : [13.289 14.949 16.413 ... 17.861 17.468 16.896]\n",
            "measurement_14 : [15.886 18.139 14.752 ... 14.402 14.39  18.349]\n",
            "measurement_15 : [15.99  13.94  16.22  ... 17.454 17.743 17.075]\n",
            "measurement_16 : [15.352    nan 16.671 ... 19.028 20.304 12.175]\n",
            "measurement_17 : [803.056 719.968 661.213 ... 906.711 732.617 753.806]\n"
          ]
        }
      ],
      "source": [
        "X_train\n",
        "\n",
        "for feature in X_train.columns:\n",
        "    print(f'{feature} : {X_train[feature].unique()}')"
      ]
    },
    {
      "cell_type": "code",
      "execution_count": null,
      "metadata": {
        "id": "JAPOeG8YPTfP",
        "outputId": "537e60ba-acaa-4684-8b8c-3da4a5697dbf"
      },
      "outputs": [
        {
          "name": "stdout",
          "output_type": "stream",
          "text": [
            "product_code : ['F' 'G' 'H' 'I']\n",
            "loading : [119.57 113.51 112.16 ... 254.3   67.73  85.97]\n",
            "attribute_0 : ['material_5' 'material_7']\n",
            "attribute_1 : ['material_6' 'material_7' 'material_5']\n",
            "attribute_2 : [6 9 7]\n",
            "attribute_3 : [4 7 9 5]\n",
            "measurement_0 : [ 6 11  8 14 10 16  7 20  9  5  2 13  3  4 15 19 12 22 21 18 17 23  0 26\n",
            " 24  1 25 29 30 28]\n",
            "measurement_1 : [ 9  8 12 11 16 18  7 15 19 10 13  6 14  5  2  4 17 25 22 21 23  3 20 26\n",
            " 24 31 27 28  1 29 33 32  0]\n",
            "measurement_2 : [ 6  0  4 10  8  7 11  9 18  3 13  5  1 12 21  2 15 22 17 16 14 24 19 23\n",
            " 20 26 28 25]\n",
            "measurement_3 : [19.305 17.883 18.475 ... 15.632 15.796 14.669]\n",
            "measurement_4 : [10.178 11.927 10.481 ...  9.355 14.105 13.852]\n",
            "measurement_5 : [17.534 17.228 16.619 ... 13.782 18.692 18.847]\n",
            "measurement_6 : [18.168 16.033 18.189 ... 16.035 18.907 19.002]\n",
            "measurement_7 : [11.598 11.179 12.126 ...  8.246 13.333 13.477]\n",
            "measurement_8 : [18.654 19.368 17.774 ... 21.783 21.43  16.732]\n",
            "measurement_9 : [10.802 12.032 11.743 ...  8.491 12.805  9.098]\n",
            "measurement_10 : [15.909 13.998 17.046 ... 15.799 18.708 18.674]\n",
            "measurement_11 : [18.07     nan 18.086 ... 22.014 22.52  15.694]\n",
            "measurement_12 : [13.772 12.473 10.907 ... 14.289 15.048  9.319]\n",
            "measurement_13 : [13.659 17.468 13.363 ... 19.496 18.375 13.058]\n",
            "measurement_14 : [16.825 16.708 15.737 ... 20.348 19.47  19.62 ]\n",
            "measurement_15 : [13.742 14.776 17.065 ... 13.07  12.263 16.637]\n",
            "measurement_16 : [17.71  14.102 16.021 ... 12.854 21.588 16.482]\n",
            "measurement_17 : [634.612 537.037 658.995 ... 783.349 745.21  647.98 ]\n"
          ]
        }
      ],
      "source": [
        "X_test\n",
        "\n",
        "for feature in X_test.columns:\n",
        "    print(f'{feature} : {X_test[feature].unique()}')"
      ]
    },
    {
      "cell_type": "code",
      "execution_count": null,
      "metadata": {
        "id": "bOFadd1mPTfQ",
        "outputId": "eb24759b-98da-4e8b-b894-91d64bdd1901"
      },
      "outputs": [
        {
          "data": {
            "text/plain": [
              "0        F\n",
              "1        F\n",
              "2        F\n",
              "3        F\n",
              "4        F\n",
              "        ..\n",
              "20770    I\n",
              "20771    I\n",
              "20772    I\n",
              "20773    I\n",
              "20774    I\n",
              "Name: product_code, Length: 20775, dtype: object"
            ]
          },
          "execution_count": 14,
          "metadata": {},
          "output_type": "execute_result"
        }
      ],
      "source": [
        "X_test['product_code']"
      ]
    },
    {
      "cell_type": "code",
      "execution_count": null,
      "metadata": {
        "id": "Om8kN07BPTfQ",
        "outputId": "5254f5a7-2533-45f2-b1c9-d9ea6815c42a"
      },
      "outputs": [
        {
          "data": {
            "text/html": [
              "<div>\n",
              "<style scoped>\n",
              "    .dataframe tbody tr th:only-of-type {\n",
              "        vertical-align: middle;\n",
              "    }\n",
              "\n",
              "    .dataframe tbody tr th {\n",
              "        vertical-align: top;\n",
              "    }\n",
              "\n",
              "    .dataframe thead th {\n",
              "        text-align: right;\n",
              "    }\n",
              "</style>\n",
              "<table border=\"1\" class=\"dataframe\">\n",
              "  <thead>\n",
              "    <tr style=\"text-align: right;\">\n",
              "      <th></th>\n",
              "      <th>product_code</th>\n",
              "      <th>loading</th>\n",
              "      <th>attribute_0</th>\n",
              "      <th>attribute_1</th>\n",
              "      <th>attribute_2</th>\n",
              "      <th>attribute_3</th>\n",
              "      <th>measurement_0</th>\n",
              "      <th>measurement_1</th>\n",
              "      <th>measurement_2</th>\n",
              "      <th>measurement_3</th>\n",
              "      <th>...</th>\n",
              "      <th>measurement_8</th>\n",
              "      <th>measurement_9</th>\n",
              "      <th>measurement_10</th>\n",
              "      <th>measurement_11</th>\n",
              "      <th>measurement_12</th>\n",
              "      <th>measurement_13</th>\n",
              "      <th>measurement_14</th>\n",
              "      <th>measurement_15</th>\n",
              "      <th>measurement_16</th>\n",
              "      <th>measurement_17</th>\n",
              "    </tr>\n",
              "  </thead>\n",
              "  <tbody>\n",
              "    <tr>\n",
              "      <th>14723</th>\n",
              "      <td>C</td>\n",
              "      <td>131.58</td>\n",
              "      <td>material_7</td>\n",
              "      <td>material_8</td>\n",
              "      <td>5</td>\n",
              "      <td>8</td>\n",
              "      <td>2</td>\n",
              "      <td>15</td>\n",
              "      <td>6</td>\n",
              "      <td>18.809</td>\n",
              "      <td>...</td>\n",
              "      <td>20.271</td>\n",
              "      <td>12.912</td>\n",
              "      <td>17.403</td>\n",
              "      <td>18.327</td>\n",
              "      <td>10.753</td>\n",
              "      <td>14.791</td>\n",
              "      <td>NaN</td>\n",
              "      <td>14.420</td>\n",
              "      <td>15.399</td>\n",
              "      <td>733.887</td>\n",
              "    </tr>\n",
              "    <tr>\n",
              "      <th>20260</th>\n",
              "      <td>D</td>\n",
              "      <td>169.11</td>\n",
              "      <td>material_7</td>\n",
              "      <td>material_5</td>\n",
              "      <td>6</td>\n",
              "      <td>6</td>\n",
              "      <td>10</td>\n",
              "      <td>11</td>\n",
              "      <td>7</td>\n",
              "      <td>18.683</td>\n",
              "      <td>...</td>\n",
              "      <td>17.343</td>\n",
              "      <td>13.174</td>\n",
              "      <td>16.851</td>\n",
              "      <td>19.138</td>\n",
              "      <td>11.821</td>\n",
              "      <td>16.438</td>\n",
              "      <td>17.588</td>\n",
              "      <td>15.337</td>\n",
              "      <td>17.717</td>\n",
              "      <td>609.503</td>\n",
              "    </tr>\n",
              "    <tr>\n",
              "      <th>26146</th>\n",
              "      <td>E</td>\n",
              "      <td>69.33</td>\n",
              "      <td>material_7</td>\n",
              "      <td>material_6</td>\n",
              "      <td>6</td>\n",
              "      <td>9</td>\n",
              "      <td>3</td>\n",
              "      <td>9</td>\n",
              "      <td>5</td>\n",
              "      <td>16.169</td>\n",
              "      <td>...</td>\n",
              "      <td>18.593</td>\n",
              "      <td>10.921</td>\n",
              "      <td>17.236</td>\n",
              "      <td>19.331</td>\n",
              "      <td>12.735</td>\n",
              "      <td>15.661</td>\n",
              "      <td>13.874</td>\n",
              "      <td>13.694</td>\n",
              "      <td>14.745</td>\n",
              "      <td>598.993</td>\n",
              "    </tr>\n",
              "    <tr>\n",
              "      <th>11670</th>\n",
              "      <td>C</td>\n",
              "      <td>188.55</td>\n",
              "      <td>material_7</td>\n",
              "      <td>material_8</td>\n",
              "      <td>5</td>\n",
              "      <td>8</td>\n",
              "      <td>1</td>\n",
              "      <td>14</td>\n",
              "      <td>6</td>\n",
              "      <td>17.603</td>\n",
              "      <td>...</td>\n",
              "      <td>20.160</td>\n",
              "      <td>11.989</td>\n",
              "      <td>16.363</td>\n",
              "      <td>18.400</td>\n",
              "      <td>10.408</td>\n",
              "      <td>16.258</td>\n",
              "      <td>13.333</td>\n",
              "      <td>14.912</td>\n",
              "      <td>17.457</td>\n",
              "      <td>802.517</td>\n",
              "    </tr>\n",
              "    <tr>\n",
              "      <th>22362</th>\n",
              "      <td>E</td>\n",
              "      <td>113.21</td>\n",
              "      <td>material_7</td>\n",
              "      <td>material_6</td>\n",
              "      <td>6</td>\n",
              "      <td>9</td>\n",
              "      <td>4</td>\n",
              "      <td>9</td>\n",
              "      <td>7</td>\n",
              "      <td>15.723</td>\n",
              "      <td>...</td>\n",
              "      <td>17.652</td>\n",
              "      <td>11.187</td>\n",
              "      <td>15.970</td>\n",
              "      <td>19.717</td>\n",
              "      <td>11.140</td>\n",
              "      <td>14.812</td>\n",
              "      <td>12.752</td>\n",
              "      <td>14.819</td>\n",
              "      <td>15.874</td>\n",
              "      <td>512.937</td>\n",
              "    </tr>\n",
              "    <tr>\n",
              "      <th>...</th>\n",
              "      <td>...</td>\n",
              "      <td>...</td>\n",
              "      <td>...</td>\n",
              "      <td>...</td>\n",
              "      <td>...</td>\n",
              "      <td>...</td>\n",
              "      <td>...</td>\n",
              "      <td>...</td>\n",
              "      <td>...</td>\n",
              "      <td>...</td>\n",
              "      <td>...</td>\n",
              "      <td>...</td>\n",
              "      <td>...</td>\n",
              "      <td>...</td>\n",
              "      <td>...</td>\n",
              "      <td>...</td>\n",
              "      <td>...</td>\n",
              "      <td>...</td>\n",
              "      <td>...</td>\n",
              "      <td>...</td>\n",
              "      <td>...</td>\n",
              "    </tr>\n",
              "    <tr>\n",
              "      <th>23554</th>\n",
              "      <td>E</td>\n",
              "      <td>138.31</td>\n",
              "      <td>material_7</td>\n",
              "      <td>material_6</td>\n",
              "      <td>6</td>\n",
              "      <td>9</td>\n",
              "      <td>8</td>\n",
              "      <td>9</td>\n",
              "      <td>6</td>\n",
              "      <td>17.313</td>\n",
              "      <td>...</td>\n",
              "      <td>16.914</td>\n",
              "      <td>11.706</td>\n",
              "      <td>16.950</td>\n",
              "      <td>18.438</td>\n",
              "      <td>NaN</td>\n",
              "      <td>NaN</td>\n",
              "      <td>12.756</td>\n",
              "      <td>15.344</td>\n",
              "      <td>16.575</td>\n",
              "      <td>382.636</td>\n",
              "    </tr>\n",
              "    <tr>\n",
              "      <th>2177</th>\n",
              "      <td>A</td>\n",
              "      <td>104.65</td>\n",
              "      <td>material_7</td>\n",
              "      <td>material_8</td>\n",
              "      <td>9</td>\n",
              "      <td>5</td>\n",
              "      <td>8</td>\n",
              "      <td>5</td>\n",
              "      <td>7</td>\n",
              "      <td>18.982</td>\n",
              "      <td>...</td>\n",
              "      <td>19.435</td>\n",
              "      <td>10.986</td>\n",
              "      <td>16.508</td>\n",
              "      <td>20.607</td>\n",
              "      <td>14.845</td>\n",
              "      <td>15.548</td>\n",
              "      <td>14.086</td>\n",
              "      <td>11.081</td>\n",
              "      <td>13.037</td>\n",
              "      <td>833.273</td>\n",
              "    </tr>\n",
              "    <tr>\n",
              "      <th>26378</th>\n",
              "      <td>E</td>\n",
              "      <td>126.86</td>\n",
              "      <td>material_7</td>\n",
              "      <td>material_6</td>\n",
              "      <td>6</td>\n",
              "      <td>9</td>\n",
              "      <td>3</td>\n",
              "      <td>13</td>\n",
              "      <td>3</td>\n",
              "      <td>16.470</td>\n",
              "      <td>...</td>\n",
              "      <td>19.050</td>\n",
              "      <td>11.969</td>\n",
              "      <td>16.750</td>\n",
              "      <td>19.104</td>\n",
              "      <td>10.269</td>\n",
              "      <td>15.497</td>\n",
              "      <td>16.752</td>\n",
              "      <td>14.328</td>\n",
              "      <td>18.659</td>\n",
              "      <td>634.502</td>\n",
              "    </tr>\n",
              "    <tr>\n",
              "      <th>24602</th>\n",
              "      <td>E</td>\n",
              "      <td>149.62</td>\n",
              "      <td>material_7</td>\n",
              "      <td>material_6</td>\n",
              "      <td>6</td>\n",
              "      <td>9</td>\n",
              "      <td>1</td>\n",
              "      <td>6</td>\n",
              "      <td>13</td>\n",
              "      <td>17.220</td>\n",
              "      <td>...</td>\n",
              "      <td>17.437</td>\n",
              "      <td>11.802</td>\n",
              "      <td>17.782</td>\n",
              "      <td>20.584</td>\n",
              "      <td>11.095</td>\n",
              "      <td>14.778</td>\n",
              "      <td>15.210</td>\n",
              "      <td>14.558</td>\n",
              "      <td>17.707</td>\n",
              "      <td>595.112</td>\n",
              "    </tr>\n",
              "    <tr>\n",
              "      <th>24330</th>\n",
              "      <td>E</td>\n",
              "      <td>73.98</td>\n",
              "      <td>material_7</td>\n",
              "      <td>material_6</td>\n",
              "      <td>6</td>\n",
              "      <td>9</td>\n",
              "      <td>1</td>\n",
              "      <td>16</td>\n",
              "      <td>0</td>\n",
              "      <td>15.731</td>\n",
              "      <td>...</td>\n",
              "      <td>18.891</td>\n",
              "      <td>12.024</td>\n",
              "      <td>15.806</td>\n",
              "      <td>20.619</td>\n",
              "      <td>13.133</td>\n",
              "      <td>15.154</td>\n",
              "      <td>14.699</td>\n",
              "      <td>13.549</td>\n",
              "      <td>17.270</td>\n",
              "      <td>725.682</td>\n",
              "    </tr>\n",
              "  </tbody>\n",
              "</table>\n",
              "<p>5314 rows × 24 columns</p>\n",
              "</div>"
            ],
            "text/plain": [
              "      product_code  loading attribute_0 attribute_1  attribute_2  attribute_3  \\\n",
              "14723            C   131.58  material_7  material_8            5            8   \n",
              "20260            D   169.11  material_7  material_5            6            6   \n",
              "26146            E    69.33  material_7  material_6            6            9   \n",
              "11670            C   188.55  material_7  material_8            5            8   \n",
              "22362            E   113.21  material_7  material_6            6            9   \n",
              "...            ...      ...         ...         ...          ...          ...   \n",
              "23554            E   138.31  material_7  material_6            6            9   \n",
              "2177             A   104.65  material_7  material_8            9            5   \n",
              "26378            E   126.86  material_7  material_6            6            9   \n",
              "24602            E   149.62  material_7  material_6            6            9   \n",
              "24330            E    73.98  material_7  material_6            6            9   \n",
              "\n",
              "       measurement_0  measurement_1  measurement_2  measurement_3  ...  \\\n",
              "14723              2             15              6         18.809  ...   \n",
              "20260             10             11              7         18.683  ...   \n",
              "26146              3              9              5         16.169  ...   \n",
              "11670              1             14              6         17.603  ...   \n",
              "22362              4              9              7         15.723  ...   \n",
              "...              ...            ...            ...            ...  ...   \n",
              "23554              8              9              6         17.313  ...   \n",
              "2177               8              5              7         18.982  ...   \n",
              "26378              3             13              3         16.470  ...   \n",
              "24602              1              6             13         17.220  ...   \n",
              "24330              1             16              0         15.731  ...   \n",
              "\n",
              "       measurement_8  measurement_9  measurement_10  measurement_11  \\\n",
              "14723         20.271         12.912          17.403          18.327   \n",
              "20260         17.343         13.174          16.851          19.138   \n",
              "26146         18.593         10.921          17.236          19.331   \n",
              "11670         20.160         11.989          16.363          18.400   \n",
              "22362         17.652         11.187          15.970          19.717   \n",
              "...              ...            ...             ...             ...   \n",
              "23554         16.914         11.706          16.950          18.438   \n",
              "2177          19.435         10.986          16.508          20.607   \n",
              "26378         19.050         11.969          16.750          19.104   \n",
              "24602         17.437         11.802          17.782          20.584   \n",
              "24330         18.891         12.024          15.806          20.619   \n",
              "\n",
              "       measurement_12  measurement_13  measurement_14  measurement_15  \\\n",
              "14723          10.753          14.791             NaN          14.420   \n",
              "20260          11.821          16.438          17.588          15.337   \n",
              "26146          12.735          15.661          13.874          13.694   \n",
              "11670          10.408          16.258          13.333          14.912   \n",
              "22362          11.140          14.812          12.752          14.819   \n",
              "...               ...             ...             ...             ...   \n",
              "23554             NaN             NaN          12.756          15.344   \n",
              "2177           14.845          15.548          14.086          11.081   \n",
              "26378          10.269          15.497          16.752          14.328   \n",
              "24602          11.095          14.778          15.210          14.558   \n",
              "24330          13.133          15.154          14.699          13.549   \n",
              "\n",
              "       measurement_16  measurement_17  \n",
              "14723          15.399         733.887  \n",
              "20260          17.717         609.503  \n",
              "26146          14.745         598.993  \n",
              "11670          17.457         802.517  \n",
              "22362          15.874         512.937  \n",
              "...               ...             ...  \n",
              "23554          16.575         382.636  \n",
              "2177           13.037         833.273  \n",
              "26378          18.659         634.502  \n",
              "24602          17.707         595.112  \n",
              "24330          17.270         725.682  \n",
              "\n",
              "[5314 rows x 24 columns]"
            ]
          },
          "execution_count": 59,
          "metadata": {},
          "output_type": "execute_result"
        }
      ],
      "source": [
        "X_val"
      ]
    },
    {
      "cell_type": "code",
      "execution_count": null,
      "metadata": {
        "id": "xBSFFVCjPTfR"
      },
      "outputs": [],
      "source": []
    }
  ],
  "metadata": {
    "colab": {
      "collapsed_sections": [
        "mJt1Uq_maXCL"
      ],
      "name": "2022.08 - Tabular Playground Series.ipynb",
      "provenance": [],
      "toc_visible": true,
      "include_colab_link": true
    },
    "kernelspec": {
      "display_name": "Python 3",
      "language": "python",
      "name": "python3"
    },
    "language_info": {
      "codemirror_mode": {
        "name": "ipython",
        "version": 3
      },
      "file_extension": ".py",
      "mimetype": "text/x-python",
      "name": "python",
      "nbconvert_exporter": "python",
      "pygments_lexer": "ipython3",
      "version": "3.8.8"
    }
  },
  "nbformat": 4,
  "nbformat_minor": 0
}